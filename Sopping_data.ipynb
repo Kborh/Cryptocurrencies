{
 "cells": [
  {
   "cell_type": "code",
   "execution_count": 17,
   "metadata": {},
   "outputs": [],
   "source": [
    "# Initial imports\n",
    "import pandas as pd\n",
    "from sklearn.cluster import KMeans\n",
    "import plotly.express as px\n",
    "import hvplot.pandas"
   ]
  },
  {
   "cell_type": "code",
   "execution_count": 18,
   "metadata": {},
   "outputs": [
    {
     "data": {
      "text/html": [
       "<div>\n",
       "<style scoped>\n",
       "    .dataframe tbody tr th:only-of-type {\n",
       "        vertical-align: middle;\n",
       "    }\n",
       "\n",
       "    .dataframe tbody tr th {\n",
       "        vertical-align: top;\n",
       "    }\n",
       "\n",
       "    .dataframe thead th {\n",
       "        text-align: right;\n",
       "    }\n",
       "</style>\n",
       "<table border=\"1\" class=\"dataframe\">\n",
       "  <thead>\n",
       "    <tr style=\"text-align: right;\">\n",
       "      <th></th>\n",
       "      <th>Card Member</th>\n",
       "      <th>Age</th>\n",
       "      <th>Annual Income</th>\n",
       "      <th>Spending Score (1-100)</th>\n",
       "    </tr>\n",
       "  </thead>\n",
       "  <tbody>\n",
       "    <tr>\n",
       "      <th>0</th>\n",
       "      <td>1</td>\n",
       "      <td>19.0</td>\n",
       "      <td>150.0</td>\n",
       "      <td>39.0</td>\n",
       "    </tr>\n",
       "    <tr>\n",
       "      <th>1</th>\n",
       "      <td>1</td>\n",
       "      <td>21.0</td>\n",
       "      <td>150.0</td>\n",
       "      <td>81.0</td>\n",
       "    </tr>\n",
       "    <tr>\n",
       "      <th>2</th>\n",
       "      <td>0</td>\n",
       "      <td>20.0</td>\n",
       "      <td>160.0</td>\n",
       "      <td>6.0</td>\n",
       "    </tr>\n",
       "    <tr>\n",
       "      <th>3</th>\n",
       "      <td>0</td>\n",
       "      <td>23.0</td>\n",
       "      <td>160.0</td>\n",
       "      <td>77.0</td>\n",
       "    </tr>\n",
       "    <tr>\n",
       "      <th>4</th>\n",
       "      <td>0</td>\n",
       "      <td>31.0</td>\n",
       "      <td>170.0</td>\n",
       "      <td>40.0</td>\n",
       "    </tr>\n",
       "    <tr>\n",
       "      <th>5</th>\n",
       "      <td>0</td>\n",
       "      <td>22.0</td>\n",
       "      <td>170.0</td>\n",
       "      <td>76.0</td>\n",
       "    </tr>\n",
       "    <tr>\n",
       "      <th>6</th>\n",
       "      <td>0</td>\n",
       "      <td>35.0</td>\n",
       "      <td>180.0</td>\n",
       "      <td>6.0</td>\n",
       "    </tr>\n",
       "    <tr>\n",
       "      <th>7</th>\n",
       "      <td>0</td>\n",
       "      <td>23.0</td>\n",
       "      <td>180.0</td>\n",
       "      <td>94.0</td>\n",
       "    </tr>\n",
       "    <tr>\n",
       "      <th>8</th>\n",
       "      <td>1</td>\n",
       "      <td>64.0</td>\n",
       "      <td>190.0</td>\n",
       "      <td>3.0</td>\n",
       "    </tr>\n",
       "    <tr>\n",
       "      <th>9</th>\n",
       "      <td>0</td>\n",
       "      <td>30.0</td>\n",
       "      <td>190.0</td>\n",
       "      <td>72.0</td>\n",
       "    </tr>\n",
       "  </tbody>\n",
       "</table>\n",
       "</div>"
      ],
      "text/plain": [
       "   Card Member   Age  Annual Income  Spending Score (1-100)\n",
       "0            1  19.0          150.0                    39.0\n",
       "1            1  21.0          150.0                    81.0\n",
       "2            0  20.0          160.0                     6.0\n",
       "3            0  23.0          160.0                    77.0\n",
       "4            0  31.0          170.0                    40.0\n",
       "5            0  22.0          170.0                    76.0\n",
       "6            0  35.0          180.0                     6.0\n",
       "7            0  23.0          180.0                    94.0\n",
       "8            1  64.0          190.0                     3.0\n",
       "9            0  30.0          190.0                    72.0"
      ]
     },
     "execution_count": 18,
     "metadata": {},
     "output_type": "execute_result"
    }
   ],
   "source": [
    "df = \"../Cryptocurrencies/shopping_data_cleaned.csv\"\n",
    "df_shopping =pd.read_csv(df)\n",
    "df_shopping.head(10)"
   ]
  },
  {
   "cell_type": "code",
   "execution_count": 19,
   "metadata": {},
   "outputs": [
    {
     "data": {},
     "metadata": {},
     "output_type": "display_data"
    },
    {
     "data": {
      "application/vnd.holoviews_exec.v0+json": "",
      "text/html": [
       "<div id='1325'>\n",
       "\n",
       "\n",
       "\n",
       "\n",
       "\n",
       "  <div class=\"bk-root\" id=\"071753a2-f4cf-4eba-a0fc-c0cdd8000a61\" data-root-id=\"1325\"></div>\n",
       "</div>\n",
       "<script type=\"application/javascript\">(function(root) {\n",
       "  function embed_document(root) {\n",
       "    var docs_json = {\"59d152a3-d58c-4639-9a6d-1067fd26e3c1\":{\"roots\":{\"references\":[{\"attributes\":{\"source\":{\"id\":\"1360\"}},\"id\":\"1367\",\"type\":\"CDSView\"},{\"attributes\":{\"active_drag\":\"auto\",\"active_inspect\":\"auto\",\"active_multi\":null,\"active_scroll\":\"auto\",\"active_tap\":\"auto\",\"tools\":[{\"id\":\"1329\"},{\"id\":\"1347\"},{\"id\":\"1348\"},{\"id\":\"1349\"},{\"id\":\"1350\"},{\"id\":\"1351\"}]},\"id\":\"1353\",\"type\":\"Toolbar\"},{\"attributes\":{\"axis\":{\"id\":\"1339\"},\"grid_line_color\":null,\"ticker\":null},\"id\":\"1342\",\"type\":\"Grid\"},{\"attributes\":{\"data_source\":{\"id\":\"1360\"},\"glyph\":{\"id\":\"1363\"},\"hover_glyph\":null,\"muted_glyph\":{\"id\":\"1365\"},\"nonselection_glyph\":{\"id\":\"1364\"},\"selection_glyph\":null,\"view\":{\"id\":\"1367\"}},\"id\":\"1366\",\"type\":\"GlyphRenderer\"},{\"attributes\":{},\"id\":\"1347\",\"type\":\"SaveTool\"},{\"attributes\":{},\"id\":\"1361\",\"type\":\"Selection\"},{\"attributes\":{\"axis\":{\"id\":\"1343\"},\"dimension\":1,\"grid_line_color\":null,\"ticker\":null},\"id\":\"1346\",\"type\":\"Grid\"},{\"attributes\":{\"axis_label\":\"Spending Score (1-100)\",\"bounds\":\"auto\",\"formatter\":{\"id\":\"1370\"},\"major_label_orientation\":\"horizontal\",\"ticker\":{\"id\":\"1344\"}},\"id\":\"1343\",\"type\":\"LinearAxis\"},{\"attributes\":{},\"id\":\"1348\",\"type\":\"PanTool\"},{\"attributes\":{},\"id\":\"1337\",\"type\":\"LinearScale\"},{\"attributes\":{},\"id\":\"1370\",\"type\":\"BasicTickFormatter\"},{\"attributes\":{},\"id\":\"1349\",\"type\":\"WheelZoomTool\"},{\"attributes\":{\"fill_alpha\":{\"value\":0.1},\"fill_color\":{\"value\":\"#30a2da\"},\"line_alpha\":{\"value\":0.1},\"line_color\":{\"value\":\"#30a2da\"},\"size\":{\"units\":\"screen\",\"value\":5.477225575051661},\"x\":{\"field\":\"Annual Income\"},\"y\":{\"field\":\"Spending Score (1-100)\"}},\"id\":\"1364\",\"type\":\"Scatter\"},{\"attributes\":{\"fill_alpha\":{\"value\":0.2},\"fill_color\":{\"value\":\"#30a2da\"},\"line_alpha\":{\"value\":0.2},\"line_color\":{\"value\":\"#30a2da\"},\"size\":{\"units\":\"screen\",\"value\":5.477225575051661},\"x\":{\"field\":\"Annual Income\"},\"y\":{\"field\":\"Spending Score (1-100)\"}},\"id\":\"1365\",\"type\":\"Scatter\"},{\"attributes\":{\"text\":\"\",\"text_color\":{\"value\":\"black\"},\"text_font_size\":{\"value\":\"12pt\"}},\"id\":\"1331\",\"type\":\"Title\"},{\"attributes\":{\"overlay\":{\"id\":\"1352\"}},\"id\":\"1350\",\"type\":\"BoxZoomTool\"},{\"attributes\":{\"axis_label\":\"Annual Income\",\"bounds\":\"auto\",\"formatter\":{\"id\":\"1368\"},\"major_label_orientation\":\"horizontal\",\"ticker\":{\"id\":\"1340\"}},\"id\":\"1339\",\"type\":\"LinearAxis\"},{\"attributes\":{},\"id\":\"1344\",\"type\":\"BasicTicker\"},{\"attributes\":{},\"id\":\"1368\",\"type\":\"BasicTickFormatter\"},{\"attributes\":{},\"id\":\"1379\",\"type\":\"UnionRenderers\"},{\"attributes\":{\"callback\":null,\"renderers\":[{\"id\":\"1366\"}],\"tags\":[\"hv_created\"],\"tooltips\":[[\"Annual Income\",\"@{Annual_Income}\"],[\"Spending Score (1-100)\",\"@{Spending_Score_left_parenthesis_1_hyphen_minus_100_right_parenthesis}\"]]},\"id\":\"1329\",\"type\":\"HoverTool\"},{\"attributes\":{},\"id\":\"1351\",\"type\":\"ResetTool\"},{\"attributes\":{},\"id\":\"1340\",\"type\":\"BasicTicker\"},{\"attributes\":{\"margin\":[5,5,5,5],\"name\":\"HSpacer02184\",\"sizing_mode\":\"stretch_width\"},\"id\":\"1388\",\"type\":\"Spacer\"},{\"attributes\":{\"end\":108.8,\"reset_end\":108.8,\"reset_start\":-8.8,\"start\":-8.8,\"tags\":[[[\"Spending Score (1-100)\",\"Spending Score (1-100)\",null]]]},\"id\":\"1328\",\"type\":\"Range1d\"},{\"attributes\":{\"margin\":[5,5,5,5],\"name\":\"HSpacer02183\",\"sizing_mode\":\"stretch_width\"},\"id\":\"1326\",\"type\":\"Spacer\"},{\"attributes\":{},\"id\":\"1335\",\"type\":\"LinearScale\"},{\"attributes\":{\"fill_color\":{\"value\":\"#30a2da\"},\"line_color\":{\"value\":\"#30a2da\"},\"size\":{\"units\":\"screen\",\"value\":5.477225575051661},\"x\":{\"field\":\"Annual Income\"},\"y\":{\"field\":\"Spending Score (1-100)\"}},\"id\":\"1363\",\"type\":\"Scatter\"},{\"attributes\":{\"children\":[{\"id\":\"1326\"},{\"id\":\"1330\"},{\"id\":\"1388\"}],\"margin\":[0,0,0,0],\"name\":\"Row02179\",\"tags\":[\"embedded\"]},\"id\":\"1325\",\"type\":\"Row\"},{\"attributes\":{\"end\":1422.2857142857142,\"reset_end\":1422.2857142857142,\"reset_start\":97.71428571428572,\"start\":97.71428571428572,\"tags\":[[[\"Annual Income\",\"Annual Income\",null]]]},\"id\":\"1327\",\"type\":\"Range1d\"},{\"attributes\":{\"data\":{\"Annual Income\":{\"__ndarray__\":\"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\",\"dtype\":\"float64\",\"order\":\"little\",\"shape\":[200]},\"Annual_Income\":{\"__ndarray__\":\"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\",\"dtype\":\"float64\",\"order\":\"little\",\"shape\":[200]},\"Spending Score (1-100)\":{\"__ndarray__\":\"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\",\"dtype\":\"float64\",\"order\":\"little\",\"shape\":[200]},\"Spending_Score_left_parenthesis_1_hyphen_minus_100_right_parenthesis\":{\"__ndarray__\":\"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\",\"dtype\":\"float64\",\"order\":\"little\",\"shape\":[200]}},\"selected\":{\"id\":\"1361\"},\"selection_policy\":{\"id\":\"1379\"}},\"id\":\"1360\",\"type\":\"ColumnDataSource\"},{\"attributes\":{\"bottom_units\":\"screen\",\"fill_alpha\":0.5,\"fill_color\":\"lightgrey\",\"left_units\":\"screen\",\"level\":\"overlay\",\"line_alpha\":1.0,\"line_color\":\"black\",\"line_dash\":[4,4],\"line_width\":2,\"right_units\":\"screen\",\"top_units\":\"screen\"},\"id\":\"1352\",\"type\":\"BoxAnnotation\"},{\"attributes\":{\"below\":[{\"id\":\"1339\"}],\"center\":[{\"id\":\"1342\"},{\"id\":\"1346\"}],\"left\":[{\"id\":\"1343\"}],\"margin\":[5,5,5,5],\"min_border_bottom\":10,\"min_border_left\":10,\"min_border_right\":10,\"min_border_top\":10,\"plot_height\":300,\"plot_width\":700,\"renderers\":[{\"id\":\"1366\"}],\"sizing_mode\":\"fixed\",\"title\":{\"id\":\"1331\"},\"toolbar\":{\"id\":\"1353\"},\"x_range\":{\"id\":\"1327\"},\"x_scale\":{\"id\":\"1335\"},\"y_range\":{\"id\":\"1328\"},\"y_scale\":{\"id\":\"1337\"}},\"id\":\"1330\",\"subtype\":\"Figure\",\"type\":\"Plot\"}],\"root_ids\":[\"1325\"]},\"title\":\"Bokeh Application\",\"version\":\"2.2.3\"}};\n",
       "    var render_items = [{\"docid\":\"59d152a3-d58c-4639-9a6d-1067fd26e3c1\",\"root_ids\":[\"1325\"],\"roots\":{\"1325\":\"071753a2-f4cf-4eba-a0fc-c0cdd8000a61\"}}];\n",
       "    root.Bokeh.embed.embed_items_notebook(docs_json, render_items);\n",
       "  }\n",
       "  if (root.Bokeh !== undefined && root.Bokeh.Panel !== undefined) {\n",
       "    embed_document(root);\n",
       "  } else {\n",
       "    var attempts = 0;\n",
       "    var timer = setInterval(function(root) {\n",
       "      if (root.Bokeh !== undefined && root.Bokeh.Panel !== undefined) {\n",
       "        clearInterval(timer);\n",
       "        embed_document(root);\n",
       "      } else if (document.readyState == \"complete\") {\n",
       "        attempts++;\n",
       "        if (attempts > 100) {\n",
       "          clearInterval(timer);\n",
       "          console.log(\"Bokeh: ERROR: Unable to run BokehJS code because BokehJS library is missing\");\n",
       "        }\n",
       "      }\n",
       "    }, 10, root)\n",
       "  }\n",
       "})(window);</script>"
      ],
      "text/plain": [
       ":Scatter   [Annual Income]   (Spending Score (1-100))"
      ]
     },
     "execution_count": 19,
     "metadata": {
      "application/vnd.holoviews_exec.v0+json": {
       "id": "1325"
      }
     },
     "output_type": "execute_result"
    }
   ],
   "source": [
    "df_shopping.hvplot.scatter(x=\"Annual Income\", y=\"Spending Score (1-100)\")"
   ]
  },
  {
   "cell_type": "code",
   "execution_count": 20,
   "metadata": {},
   "outputs": [],
   "source": [
    "# Function to cluster and plot dataset\n",
    "def test_cluster_amount(df, clusters):\n",
    "    model = KMeans(n_clusters=clusters, random_state=5)\n",
    "    model\n",
    "\n",
    "    # Fitting model\n",
    "    model.fit(df)\n",
    "\n",
    "    # Add a new class column to df_iris\n",
    "    df[\"class\"] = model.labels_"
   ]
  },
  {
   "cell_type": "code",
   "execution_count": 21,
   "metadata": {},
   "outputs": [
    {
     "data": {},
     "metadata": {},
     "output_type": "display_data"
    },
    {
     "data": {
      "application/vnd.holoviews_exec.v0+json": "",
      "text/html": [
       "<div id='1430'>\n",
       "\n",
       "\n",
       "\n",
       "\n",
       "\n",
       "  <div class=\"bk-root\" id=\"78552eb8-6b6a-4c30-adb5-e21990f4bf95\" data-root-id=\"1430\"></div>\n",
       "</div>\n",
       "<script type=\"application/javascript\">(function(root) {\n",
       "  function embed_document(root) {\n",
       "    var docs_json = {\"9a6afd3b-9923-4b58-8ed9-c136f5273d5f\":{\"roots\":{\"references\":[{\"attributes\":{},\"id\":\"1454\",\"type\":\"PanTool\"},{\"attributes\":{\"below\":[{\"id\":\"1445\"}],\"center\":[{\"id\":\"1448\"},{\"id\":\"1452\"}],\"left\":[{\"id\":\"1449\"}],\"margin\":[5,5,5,5],\"min_border_bottom\":10,\"min_border_left\":10,\"min_border_right\":10,\"min_border_top\":10,\"plot_height\":300,\"plot_width\":700,\"renderers\":[{\"id\":\"1476\"},{\"id\":\"1494\"}],\"right\":[{\"id\":\"1486\"}],\"sizing_mode\":\"fixed\",\"title\":{\"id\":\"1437\"},\"toolbar\":{\"id\":\"1459\"},\"x_range\":{\"id\":\"1432\"},\"x_scale\":{\"id\":\"1441\"},\"y_range\":{\"id\":\"1433\"},\"y_scale\":{\"id\":\"1443\"}},\"id\":\"1436\",\"subtype\":\"Figure\",\"type\":\"Plot\"},{\"attributes\":{},\"id\":\"1455\",\"type\":\"WheelZoomTool\"},{\"attributes\":{\"label\":{\"value\":\"1\"},\"renderers\":[{\"id\":\"1494\"}]},\"id\":\"1506\",\"type\":\"LegendItem\"},{\"attributes\":{\"data_source\":{\"id\":\"1470\"},\"glyph\":{\"id\":\"1473\"},\"hover_glyph\":null,\"muted_glyph\":{\"id\":\"1475\"},\"nonselection_glyph\":{\"id\":\"1474\"},\"selection_glyph\":null,\"view\":{\"id\":\"1477\"}},\"id\":\"1476\",\"type\":\"GlyphRenderer\"},{\"attributes\":{\"fill_alpha\":{\"value\":0.1},\"fill_color\":{\"value\":\"#fc4f30\"},\"line_alpha\":{\"value\":0.1},\"line_color\":{\"value\":\"#fc4f30\"},\"size\":{\"units\":\"screen\",\"value\":5.477225575051661},\"x\":{\"field\":\"Annual Income\"},\"y\":{\"field\":\"Spending Score (1-100)\"}},\"id\":\"1492\",\"type\":\"Scatter\"},{\"attributes\":{},\"id\":\"1443\",\"type\":\"LinearScale\"},{\"attributes\":{\"overlay\":{\"id\":\"1458\"}},\"id\":\"1456\",\"type\":\"BoxZoomTool\"},{\"attributes\":{\"data\":{\"Annual Income\":{\"__ndarray__\":\"AAAAAADAYkAAAAAAAMBiQAAAAAAAAGRAAAAAAAAAZEAAAAAAAEBlQAAAAAAAQGVAAAAAAACAZkAAAAAAAIBmQAAAAAAAwGdAAAAAAADAZ0AAAAAAAMBnQAAAAAAAwGdAAAAAAAAAaUAAAAAAAABpQAAAAAAAAGlAAAAAAAAAaUAAAAAAAEBqQAAAAAAAQGpAAAAAAADAbEAAAAAAAMBsQAAAAAAAAG5AAAAAAAAAbkAAAAAAAEBvQAAAAAAAQG9AAAAAAACAcUAAAAAAAIBxQAAAAAAAgHFAAAAAAACAcUAAAAAAACByQAAAAAAAIHJAAAAAAADAckAAAAAAAMByQAAAAAAAoHRAAAAAAACgdEAAAAAAAKB0QAAAAAAAoHRAAAAAAABAdUAAAAAAAEB1QAAAAAAAIHdAAAAAAAAgd0AAAAAAAMB3QAAAAAAAwHdAAAAAAABgeEAAAAAAAGB4QAAAAAAAYHhAAAAAAABgeEAAAAAAAAB5QAAAAAAAAHlAAAAAAAAAeUAAAAAAAAB5QAAAAAAAQHpAAAAAAABAekAAAAAAAOB6QAAAAAAA4HpAAAAAAADgekAAAAAAAOB6QAAAAAAAgHtAAAAAAACAe0AAAAAAAMB8QAAAAAAAwHxAAAAAAADAfEAAAAAAAMB8QAAAAAAAYH1AAAAAAABgfUAAAAAAAAB+QAAAAAAAAH5AAAAAAAAAfkAAAAAAAAB+QAAAAAAAAH5AAAAAAAAAfkAAAAAAAKB+QAAAAAAAoH5AAAAAAABAf0AAAAAAAEB/QAAAAAAA4IBAAAAAAADggEAAAAAAAOCAQAAAAAAA4IBAAAAAAADggEAAAAAAAOCAQAAAAAAA4IBAAAAAAADggEAAAAAAAOCAQAAAAAAA4IBAAAAAAADggEAAAAAAAOCAQAAAAAAA0IFAAAAAAADQgUAAAAAAACCCQAAAAAAAIIJA\",\"dtype\":\"float64\",\"order\":\"little\",\"shape\":[90]},\"Annual_Income\":{\"__ndarray__\":\"AAAAAADAYkAAAAAAAMBiQAAAAAAAAGRAAAAAAAAAZEAAAAAAAEBlQAAAAAAAQGVAAAAAAACAZkAAAAAAAIBmQAAAAAAAwGdAAAAAAADAZ0AAAAAAAMBnQAAAAAAAwGdAAAAAAAAAaUAAAAAAAABpQAAAAAAAAGlAAAAAAAAAaUAAAAAAAEBqQAAAAAAAQGpAAAAAAADAbEAAAAAAAMBsQAAAAAAAAG5AAAAAAAAAbkAAAAAAAEBvQAAAAAAAQG9AAAAAAACAcUAAAAAAAIBxQAAAAAAAgHFAAAAAAACAcUAAAAAAACByQAAAAAAAIHJAAAAAAADAckAAAAAAAMByQAAAAAAAoHRAAAAAAACgdEAAAAAAAKB0QAAAAAAAoHRAAAAAAABAdUAAAAAAAEB1QAAAAAAAIHdAAAAAAAAgd0AAAAAAAMB3QAAAAAAAwHdAAAAAAABgeEAAAAAAAGB4QAAAAAAAYHhAAAAAAABgeEAAAAAAAAB5QAAAAAAAAHlAAAAAAAAAeUAAAAAAAAB5QAAAAAAAQHpAAAAAAABAekAAAAAAAOB6QAAAAAAA4HpAAAAAAADgekAAAAAAAOB6QAAAAAAAgHtAAAAAAACAe0AAAAAAAMB8QAAAAAAAwHxAAAAAAADAfEAAAAAAAMB8QAAAAAAAYH1AAAAAAABgfUAAAAAAAAB+QAAAAAAAAH5AAAAAAAAAfkAAAAAAAAB+QAAAAAAAAH5AAAAAAAAAfkAAAAAAAKB+QAAAAAAAoH5AAAAAAABAf0AAAAAAAEB/QAAAAAAA4IBAAAAAAADggEAAAAAAAOCAQAAAAAAA4IBAAAAAAADggEAAAAAAAOCAQAAAAAAA4IBAAAAAAADggEAAAAAAAOCAQAAAAAAA4IBAAAAAAADggEAAAAAAAOCAQAAAAAAA0IFAAAAAAADQgUAAAAAAACCCQAAAAAAAIIJA\",\"dtype\":\"float64\",\"order\":\"little\",\"shape\":[90]},\"Spending Score (1-100)\":{\"__ndarray__\":\"AAAAAACAQ0AAAAAAAEBUQAAAAAAAABhAAAAAAABAU0AAAAAAAABEQAAAAAAAAFNAAAAAAAAAGEAAAAAAAIBXQAAAAAAAAAhAAAAAAAAAUkAAAAAAAAAsQAAAAAAAwFhAAAAAAAAALkAAAAAAAEBTQAAAAAAAACpAAAAAAADAU0AAAAAAAIBBQAAAAAAAgFBAAAAAAAAAPUAAAAAAAIBYQAAAAAAAgEFAAAAAAABAUkAAAAAAAAAUQAAAAAAAQFJAAAAAAAAALEAAAAAAAIBUQAAAAAAAAEBAAAAAAACATkAAAAAAAAA/QAAAAAAAwFVAAAAAAAAAEEAAAAAAAEBSQAAAAAAAABBAAAAAAAAAV0AAAAAAAAAsQAAAAAAAQFRAAAAAAAAAMUAAAAAAAEBSQAAAAAAAADpAAAAAAADAUkAAAAAAAIBBQAAAAAAAAFdAAAAAAAAAQkAAAAAAAIBOQAAAAAAAADxAAAAAAABAUEAAAAAAAIBLQAAAAAAAgEdAAAAAAAAARUAAAAAAAABFQAAAAAAAAEpAAAAAAAAATkAAAAAAAABLQAAAAAAAAE5AAAAAAACARkAAAAAAAIBEQAAAAAAAAElAAAAAAAAAR0AAAAAAAIBJQAAAAAAAAEdAAAAAAAAATEAAAAAAAIBLQAAAAAAAAEpAAAAAAACATUAAAAAAAIBJQAAAAAAAgE1AAAAAAAAASUAAAAAAAABIQAAAAAAAgE1AAAAAAACAR0AAAAAAAIBLQAAAAAAAAEVAAAAAAACASEAAAAAAAABMQAAAAAAAgEdAAAAAAAAAS0AAAAAAAIBKQAAAAAAAAEhAAAAAAAAASkAAAAAAAABFQAAAAAAAgElAAAAAAACAS0AAAAAAAIBEQAAAAAAAAEZAAAAAAACATEAAAAAAAABHQAAAAAAAAE1AAAAAAACAS0AAAAAAAABOQAAAAAAAAEdA\",\"dtype\":\"float64\",\"order\":\"little\",\"shape\":[90]},\"Spending_Score_left_parenthesis_1_hyphen_minus_100_right_parenthesis\":{\"__ndarray__\":\"AAAAAACAQ0AAAAAAAEBUQAAAAAAAABhAAAAAAABAU0AAAAAAAABEQAAAAAAAAFNAAAAAAAAAGEAAAAAAAIBXQAAAAAAAAAhAAAAAAAAAUkAAAAAAAAAsQAAAAAAAwFhAAAAAAAAALkAAAAAAAEBTQAAAAAAAACpAAAAAAADAU0AAAAAAAIBBQAAAAAAAgFBAAAAAAAAAPUAAAAAAAIBYQAAAAAAAgEFAAAAAAABAUkAAAAAAAAAUQAAAAAAAQFJAAAAAAAAALEAAAAAAAIBUQAAAAAAAAEBAAAAAAACATkAAAAAAAAA/QAAAAAAAwFVAAAAAAAAAEEAAAAAAAEBSQAAAAAAAABBAAAAAAAAAV0AAAAAAAAAsQAAAAAAAQFRAAAAAAAAAMUAAAAAAAEBSQAAAAAAAADpAAAAAAADAUkAAAAAAAIBBQAAAAAAAAFdAAAAAAAAAQkAAAAAAAIBOQAAAAAAAADxAAAAAAABAUEAAAAAAAIBLQAAAAAAAgEdAAAAAAAAARUAAAAAAAABFQAAAAAAAAEpAAAAAAAAATkAAAAAAAABLQAAAAAAAAE5AAAAAAACARkAAAAAAAIBEQAAAAAAAAElAAAAAAAAAR0AAAAAAAIBJQAAAAAAAAEdAAAAAAAAATEAAAAAAAIBLQAAAAAAAAEpAAAAAAACATUAAAAAAAIBJQAAAAAAAgE1AAAAAAAAASUAAAAAAAABIQAAAAAAAgE1AAAAAAACAR0AAAAAAAIBLQAAAAAAAAEVAAAAAAACASEAAAAAAAABMQAAAAAAAgEdAAAAAAAAAS0AAAAAAAIBKQAAAAAAAAEhAAAAAAAAASkAAAAAAAABFQAAAAAAAgElAAAAAAACAS0AAAAAAAIBEQAAAAAAAAEZAAAAAAACATEAAAAAAAABHQAAAAAAAAE1AAAAAAACAS0AAAAAAAABOQAAAAAAAAEdA\",\"dtype\":\"float64\",\"order\":\"little\",\"shape\":[90]},\"class\":[1,1,1,1,1,1,1,1,1,1,1,1,1,1,1,1,1,1,1,1,1,1,1,1,1,1,1,1,1,1,1,1,1,1,1,1,1,1,1,1,1,1,1,1,1,1,1,1,1,1,1,1,1,1,1,1,1,1,1,1,1,1,1,1,1,1,1,1,1,1,1,1,1,1,1,1,1,1,1,1,1,1,1,1,1,1,1,1,1,1]},\"selected\":{\"id\":\"1489\"},\"selection_policy\":{\"id\":\"1505\"}},\"id\":\"1488\",\"type\":\"ColumnDataSource\"},{\"attributes\":{\"fill_color\":{\"value\":\"#fc4f30\"},\"line_color\":{\"value\":\"#fc4f30\"},\"size\":{\"units\":\"screen\",\"value\":5.477225575051661},\"x\":{\"field\":\"Annual Income\"},\"y\":{\"field\":\"Spending Score (1-100)\"}},\"id\":\"1491\",\"type\":\"Scatter\"},{\"attributes\":{\"source\":{\"id\":\"1488\"}},\"id\":\"1495\",\"type\":\"CDSView\"},{\"attributes\":{\"text\":\"\",\"text_color\":{\"value\":\"black\"},\"text_font_size\":{\"value\":\"12pt\"}},\"id\":\"1437\",\"type\":\"Title\"},{\"attributes\":{\"callback\":null,\"renderers\":[{\"id\":\"1476\"},{\"id\":\"1494\"}],\"tags\":[\"hv_created\"],\"tooltips\":[[\"class\",\"@{class}\"],[\"Annual Income\",\"@{Annual_Income}\"],[\"Spending Score (1-100)\",\"@{Spending_Score_left_parenthesis_1_hyphen_minus_100_right_parenthesis}\"]]},\"id\":\"1434\",\"type\":\"HoverTool\"},{\"attributes\":{\"data_source\":{\"id\":\"1488\"},\"glyph\":{\"id\":\"1491\"},\"hover_glyph\":null,\"muted_glyph\":{\"id\":\"1493\"},\"nonselection_glyph\":{\"id\":\"1492\"},\"selection_glyph\":null,\"view\":{\"id\":\"1495\"}},\"id\":\"1494\",\"type\":\"GlyphRenderer\"},{\"attributes\":{},\"id\":\"1457\",\"type\":\"ResetTool\"},{\"attributes\":{\"axis_label\":\"Annual Income\",\"bounds\":\"auto\",\"formatter\":{\"id\":\"1466\"},\"major_label_orientation\":\"horizontal\",\"ticker\":{\"id\":\"1446\"}},\"id\":\"1445\",\"type\":\"LinearAxis\"},{\"attributes\":{},\"id\":\"1466\",\"type\":\"BasicTickFormatter\"},{\"attributes\":{\"fill_alpha\":{\"value\":0.1},\"fill_color\":{\"value\":\"#30a2da\"},\"line_alpha\":{\"value\":0.1},\"line_color\":{\"value\":\"#30a2da\"},\"size\":{\"units\":\"screen\",\"value\":5.477225575051661},\"x\":{\"field\":\"Annual Income\"},\"y\":{\"field\":\"Spending Score (1-100)\"}},\"id\":\"1474\",\"type\":\"Scatter\"},{\"attributes\":{\"axis\":{\"id\":\"1449\"},\"dimension\":1,\"grid_line_color\":null,\"ticker\":null},\"id\":\"1452\",\"type\":\"Grid\"},{\"attributes\":{},\"id\":\"1446\",\"type\":\"BasicTicker\"},{\"attributes\":{},\"id\":\"1485\",\"type\":\"UnionRenderers\"},{\"attributes\":{\"fill_color\":{\"value\":\"#30a2da\"},\"line_color\":{\"value\":\"#30a2da\"},\"size\":{\"units\":\"screen\",\"value\":5.477225575051661},\"x\":{\"field\":\"Annual Income\"},\"y\":{\"field\":\"Spending Score (1-100)\"}},\"id\":\"1473\",\"type\":\"Scatter\"},{\"attributes\":{},\"id\":\"1505\",\"type\":\"UnionRenderers\"},{\"attributes\":{},\"id\":\"1441\",\"type\":\"LinearScale\"},{\"attributes\":{\"fill_alpha\":{\"value\":0.2},\"fill_color\":{\"value\":\"#fc4f30\"},\"line_alpha\":{\"value\":0.2},\"line_color\":{\"value\":\"#fc4f30\"},\"size\":{\"units\":\"screen\",\"value\":5.477225575051661},\"x\":{\"field\":\"Annual Income\"},\"y\":{\"field\":\"Spending Score (1-100)\"}},\"id\":\"1493\",\"type\":\"Scatter\"},{\"attributes\":{},\"id\":\"1489\",\"type\":\"Selection\"},{\"attributes\":{\"axis\":{\"id\":\"1445\"},\"grid_line_color\":null,\"ticker\":null},\"id\":\"1448\",\"type\":\"Grid\"},{\"attributes\":{\"data\":{\"Annual Income\":{\"__ndarray__\":\"AAAAAABwgkAAAAAAAHCCQAAAAAAAwIJAAAAAAADAgkAAAAAAAMCCQAAAAAAAwIJAAAAAAADAgkAAAAAAAMCCQAAAAAAAEINAAAAAAAAQg0AAAAAAAGCDQAAAAAAAYINAAAAAAABgg0AAAAAAAGCDQAAAAAAAYINAAAAAAABgg0AAAAAAALCDQAAAAAAAsINAAAAAAACwg0AAAAAAALCDQAAAAAAAsINAAAAAAACwg0AAAAAAAACEQAAAAAAAAIRAAAAAAABQhEAAAAAAAFCEQAAAAAAAUIRAAAAAAABQhEAAAAAAAPCEQAAAAAAA8IRAAAAAAADwhEAAAAAAAPCEQAAAAAAAkIVAAAAAAACQhUAAAAAAAOCFQAAAAAAA4IVAAAAAAAAwhkAAAAAAADCGQAAAAAAAMIZAAAAAAAAwhkAAAAAAADCGQAAAAAAAMIZAAAAAAACAhkAAAAAAAICGQAAAAAAA0IZAAAAAAADQhkAAAAAAANCGQAAAAAAA0IZAAAAAAAAgh0AAAAAAACCHQAAAAAAAcIdAAAAAAABwh0AAAAAAAMCHQAAAAAAAwIdAAAAAAAAQiEAAAAAAABCIQAAAAAAAEIhAAAAAAAAQiEAAAAAAAGCIQAAAAAAAYIhAAAAAAABgiEAAAAAAAGCIQAAAAAAAYIhAAAAAAABgiEAAAAAAAGCIQAAAAAAAYIhAAAAAAABgiEAAAAAAAGCIQAAAAAAAYIhAAAAAAABgiEAAAAAAALCIQAAAAAAAsIhAAAAAAABQiUAAAAAAAFCJQAAAAAAAkIpAAAAAAACQikAAAAAAAOCKQAAAAAAA4IpAAAAAAAAwi0AAAAAAADCLQAAAAAAAMItAAAAAAAAwi0AAAAAAADCLQAAAAAAAMItAAAAAAACAi0AAAAAAAICLQAAAAAAAgItAAAAAAACAi0AAAAAAABCNQAAAAAAAEI1AAAAAAABQjkAAAAAAAFCOQAAAAAAAoI5AAAAAAACgjkAAAAAAAPCOQAAAAAAA8I5AAAAAAACQj0AAAAAAAJCPQAAAAAAAGJBAAAAAAAAYkEAAAAAAABiQQAAAAAAAGJBAAAAAAACokUAAAAAAAKiRQAAAAAAAwJJAAAAAAADAkkAAAAAAALCTQAAAAAAAsJNAAAAAAABolUAAAAAAAGiVQA==\",\"dtype\":\"float64\",\"order\":\"little\",\"shape\":[110]},\"Annual_Income\":{\"__ndarray__\":\"AAAAAABwgkAAAAAAAHCCQAAAAAAAwIJAAAAAAADAgkAAAAAAAMCCQAAAAAAAwIJAAAAAAADAgkAAAAAAAMCCQAAAAAAAEINAAAAAAAAQg0AAAAAAAGCDQAAAAAAAYINAAAAAAABgg0AAAAAAAGCDQAAAAAAAYINAAAAAAABgg0AAAAAAALCDQAAAAAAAsINAAAAAAACwg0AAAAAAALCDQAAAAAAAsINAAAAAAACwg0AAAAAAAACEQAAAAAAAAIRAAAAAAABQhEAAAAAAAFCEQAAAAAAAUIRAAAAAAABQhEAAAAAAAPCEQAAAAAAA8IRAAAAAAADwhEAAAAAAAPCEQAAAAAAAkIVAAAAAAACQhUAAAAAAAOCFQAAAAAAA4IVAAAAAAAAwhkAAAAAAADCGQAAAAAAAMIZAAAAAAAAwhkAAAAAAADCGQAAAAAAAMIZAAAAAAACAhkAAAAAAAICGQAAAAAAA0IZAAAAAAADQhkAAAAAAANCGQAAAAAAA0IZAAAAAAAAgh0AAAAAAACCHQAAAAAAAcIdAAAAAAABwh0AAAAAAAMCHQAAAAAAAwIdAAAAAAAAQiEAAAAAAABCIQAAAAAAAEIhAAAAAAAAQiEAAAAAAAGCIQAAAAAAAYIhAAAAAAABgiEAAAAAAAGCIQAAAAAAAYIhAAAAAAABgiEAAAAAAAGCIQAAAAAAAYIhAAAAAAABgiEAAAAAAAGCIQAAAAAAAYIhAAAAAAABgiEAAAAAAALCIQAAAAAAAsIhAAAAAAABQiUAAAAAAAFCJQAAAAAAAkIpAAAAAAACQikAAAAAAAOCKQAAAAAAA4IpAAAAAAAAwi0AAAAAAADCLQAAAAAAAMItAAAAAAAAwi0AAAAAAADCLQAAAAAAAMItAAAAAAACAi0AAAAAAAICLQAAAAAAAgItAAAAAAACAi0AAAAAAABCNQAAAAAAAEI1AAAAAAABQjkAAAAAAAFCOQAAAAAAAoI5AAAAAAACgjkAAAAAAAPCOQAAAAAAA8I5AAAAAAACQj0AAAAAAAJCPQAAAAAAAGJBAAAAAAAAYkEAAAAAAABiQQAAAAAAAGJBAAAAAAACokUAAAAAAAKiRQAAAAAAAwJJAAAAAAADAkkAAAAAAALCTQAAAAAAAsJNAAAAAAABolUAAAAAAAGiVQA==\",\"dtype\":\"float64\",\"order\":\"little\",\"shape\":[110]},\"Spending Score (1-100)\":{\"__ndarray__\":\"AAAAAACAS0AAAAAAAIBEQAAAAAAAgEhAAAAAAAAAREAAAAAAAABFQAAAAAAAAEpAAAAAAACAR0AAAAAAAABJQAAAAAAAAEVAAAAAAACASEAAAAAAAIBEQAAAAAAAAEhAAAAAAACATUAAAAAAAIBLQAAAAAAAAExAAAAAAAAARUAAAAAAAABJQAAAAAAAAEdAAAAAAACARUAAAAAAAABIQAAAAAAAAEpAAAAAAAAAS0AAAAAAAABFQAAAAAAAAEdAAAAAAAAASEAAAAAAAABJQAAAAAAAgEVAAAAAAACATUAAAAAAAIBFQAAAAAAAgExAAAAAAAAATEAAAAAAAABEQAAAAAAAAE1AAAAAAADAVkAAAAAAAAA9QAAAAAAAQFNAAAAAAACAQUAAAAAAAMBXQAAAAAAAACZAAAAAAADAUkAAAAAAAAAiQAAAAAAAwFJAAAAAAAAAQUAAAAAAAMBRQAAAAAAAABRAAAAAAAAAVkAAAAAAAAAcQAAAAAAAQFJAAAAAAAAAJEAAAAAAAABSQAAAAAAAABRAAAAAAABAV0AAAAAAAABEQAAAAAAAwFVAAAAAAAAAKEAAAAAAAEBYQAAAAAAAAEJAAAAAAACAUkAAAAAAAAA2QAAAAAAAgFZAAAAAAAAAMUAAAAAAAABWQAAAAAAAADRAAAAAAAAAU0AAAAAAAAAwQAAAAAAAQFZAAAAAAAAA8D8AAAAAAIBTQAAAAAAAAPA/AAAAAABAUkAAAAAAAIBBQAAAAAAAwFRAAAAAAAAAFEAAAAAAAEBXQAAAAAAAADpAAAAAAADAUkAAAAAAAAA0QAAAAAAAwFdAAAAAAAAAO0AAAAAAAIBPQAAAAAAAACpAAAAAAADAUkAAAAAAAAAkQAAAAAAAAFdAAAAAAAAAKkAAAAAAAIBVQAAAAAAAAC5AAAAAAABAUUAAAAAAAAAsQAAAAAAAgFZAAAAAAAAAQEAAAAAAAIBVQAAAAAAAAC5AAAAAAAAAVkAAAAAAAIBDQAAAAAAAQFhAAAAAAAAAOEAAAAAAAABRQAAAAAAAADFAAAAAAABAVUAAAAAAAAA3QAAAAAAAQFFAAAAAAAAAIEAAAAAAAMBWQAAAAAAAADBAAAAAAADAU0AAAAAAAAA8QAAAAAAAgFJAAAAAAAAAMkAAAAAAAMBUQA==\",\"dtype\":\"float64\",\"order\":\"little\",\"shape\":[110]},\"Spending_Score_left_parenthesis_1_hyphen_minus_100_right_parenthesis\":{\"__ndarray__\":\"AAAAAACAS0AAAAAAAIBEQAAAAAAAgEhAAAAAAAAAREAAAAAAAABFQAAAAAAAAEpAAAAAAACAR0AAAAAAAABJQAAAAAAAAEVAAAAAAACASEAAAAAAAIBEQAAAAAAAAEhAAAAAAACATUAAAAAAAIBLQAAAAAAAAExAAAAAAAAARUAAAAAAAABJQAAAAAAAAEdAAAAAAACARUAAAAAAAABIQAAAAAAAAEpAAAAAAAAAS0AAAAAAAABFQAAAAAAAAEdAAAAAAAAASEAAAAAAAABJQAAAAAAAgEVAAAAAAACATUAAAAAAAIBFQAAAAAAAgExAAAAAAAAATEAAAAAAAABEQAAAAAAAAE1AAAAAAADAVkAAAAAAAAA9QAAAAAAAQFNAAAAAAACAQUAAAAAAAMBXQAAAAAAAACZAAAAAAADAUkAAAAAAAAAiQAAAAAAAwFJAAAAAAAAAQUAAAAAAAMBRQAAAAAAAABRAAAAAAAAAVkAAAAAAAAAcQAAAAAAAQFJAAAAAAAAAJEAAAAAAAABSQAAAAAAAABRAAAAAAABAV0AAAAAAAABEQAAAAAAAwFVAAAAAAAAAKEAAAAAAAEBYQAAAAAAAAEJAAAAAAACAUkAAAAAAAAA2QAAAAAAAgFZAAAAAAAAAMUAAAAAAAABWQAAAAAAAADRAAAAAAAAAU0AAAAAAAAAwQAAAAAAAQFZAAAAAAAAA8D8AAAAAAIBTQAAAAAAAAPA/AAAAAABAUkAAAAAAAIBBQAAAAAAAwFRAAAAAAAAAFEAAAAAAAEBXQAAAAAAAADpAAAAAAADAUkAAAAAAAAA0QAAAAAAAwFdAAAAAAAAAO0AAAAAAAIBPQAAAAAAAACpAAAAAAADAUkAAAAAAAAAkQAAAAAAAAFdAAAAAAAAAKkAAAAAAAIBVQAAAAAAAAC5AAAAAAABAUUAAAAAAAAAsQAAAAAAAgFZAAAAAAAAAQEAAAAAAAIBVQAAAAAAAAC5AAAAAAAAAVkAAAAAAAIBDQAAAAAAAQFhAAAAAAAAAOEAAAAAAAABRQAAAAAAAADFAAAAAAABAVUAAAAAAAAA3QAAAAAAAQFFAAAAAAAAAIEAAAAAAAMBWQAAAAAAAADBAAAAAAADAU0AAAAAAAAA8QAAAAAAAgFJAAAAAAAAAMkAAAAAAAMBUQA==\",\"dtype\":\"float64\",\"order\":\"little\",\"shape\":[110]},\"class\":[0,0,0,0,0,0,0,0,0,0,0,0,0,0,0,0,0,0,0,0,0,0,0,0,0,0,0,0,0,0,0,0,0,0,0,0,0,0,0,0,0,0,0,0,0,0,0,0,0,0,0,0,0,0,0,0,0,0,0,0,0,0,0,0,0,0,0,0,0,0,0,0,0,0,0,0,0,0,0,0,0,0,0,0,0,0,0,0,0,0,0,0,0,0,0,0,0,0,0,0,0,0,0,0,0,0,0,0,0,0]},\"selected\":{\"id\":\"1471\"},\"selection_policy\":{\"id\":\"1485\"}},\"id\":\"1470\",\"type\":\"ColumnDataSource\"},{\"attributes\":{\"end\":1422.2857142857142,\"reset_end\":1422.2857142857142,\"reset_start\":97.71428571428572,\"start\":97.71428571428572,\"tags\":[[[\"Annual Income\",\"Annual Income\",null]]]},\"id\":\"1432\",\"type\":\"Range1d\"},{\"attributes\":{},\"id\":\"1450\",\"type\":\"BasicTicker\"},{\"attributes\":{\"axis_label\":\"Spending Score (1-100)\",\"bounds\":\"auto\",\"formatter\":{\"id\":\"1468\"},\"major_label_orientation\":\"horizontal\",\"ticker\":{\"id\":\"1450\"}},\"id\":\"1449\",\"type\":\"LinearAxis\"},{\"attributes\":{\"children\":[{\"id\":\"1431\"},{\"id\":\"1436\"},{\"id\":\"1597\"}],\"margin\":[0,0,0,0],\"name\":\"Row02394\",\"tags\":[\"embedded\"]},\"id\":\"1430\",\"type\":\"Row\"},{\"attributes\":{\"source\":{\"id\":\"1470\"}},\"id\":\"1477\",\"type\":\"CDSView\"},{\"attributes\":{\"click_policy\":\"mute\",\"items\":[{\"id\":\"1487\"},{\"id\":\"1506\"}],\"location\":[0,0],\"title\":\"class\"},\"id\":\"1486\",\"type\":\"Legend\"},{\"attributes\":{\"bottom_units\":\"screen\",\"fill_alpha\":0.5,\"fill_color\":\"lightgrey\",\"left_units\":\"screen\",\"level\":\"overlay\",\"line_alpha\":1.0,\"line_color\":\"black\",\"line_dash\":[4,4],\"line_width\":2,\"right_units\":\"screen\",\"top_units\":\"screen\"},\"id\":\"1458\",\"type\":\"BoxAnnotation\"},{\"attributes\":{\"margin\":[5,5,5,5],\"name\":\"HSpacer02398\",\"sizing_mode\":\"stretch_width\"},\"id\":\"1431\",\"type\":\"Spacer\"},{\"attributes\":{},\"id\":\"1471\",\"type\":\"Selection\"},{\"attributes\":{\"end\":108.8,\"reset_end\":108.8,\"reset_start\":-8.8,\"start\":-8.8,\"tags\":[[[\"Spending Score (1-100)\",\"Spending Score (1-100)\",null]]]},\"id\":\"1433\",\"type\":\"Range1d\"},{\"attributes\":{\"label\":{\"value\":\"0\"},\"renderers\":[{\"id\":\"1476\"}]},\"id\":\"1487\",\"type\":\"LegendItem\"},{\"attributes\":{\"fill_alpha\":{\"value\":0.2},\"fill_color\":{\"value\":\"#30a2da\"},\"line_alpha\":{\"value\":0.2},\"line_color\":{\"value\":\"#30a2da\"},\"size\":{\"units\":\"screen\",\"value\":5.477225575051661},\"x\":{\"field\":\"Annual Income\"},\"y\":{\"field\":\"Spending Score (1-100)\"}},\"id\":\"1475\",\"type\":\"Scatter\"},{\"attributes\":{\"active_drag\":\"auto\",\"active_inspect\":\"auto\",\"active_multi\":null,\"active_scroll\":\"auto\",\"active_tap\":\"auto\",\"tools\":[{\"id\":\"1434\"},{\"id\":\"1453\"},{\"id\":\"1454\"},{\"id\":\"1455\"},{\"id\":\"1456\"},{\"id\":\"1457\"}]},\"id\":\"1459\",\"type\":\"Toolbar\"},{\"attributes\":{\"margin\":[5,5,5,5],\"name\":\"HSpacer02399\",\"sizing_mode\":\"stretch_width\"},\"id\":\"1597\",\"type\":\"Spacer\"},{\"attributes\":{},\"id\":\"1468\",\"type\":\"BasicTickFormatter\"},{\"attributes\":{},\"id\":\"1453\",\"type\":\"SaveTool\"}],\"root_ids\":[\"1430\"]},\"title\":\"Bokeh Application\",\"version\":\"2.2.3\"}};\n",
       "    var render_items = [{\"docid\":\"9a6afd3b-9923-4b58-8ed9-c136f5273d5f\",\"root_ids\":[\"1430\"],\"roots\":{\"1430\":\"78552eb8-6b6a-4c30-adb5-e21990f4bf95\"}}];\n",
       "    root.Bokeh.embed.embed_items_notebook(docs_json, render_items);\n",
       "  }\n",
       "  if (root.Bokeh !== undefined && root.Bokeh.Panel !== undefined) {\n",
       "    embed_document(root);\n",
       "  } else {\n",
       "    var attempts = 0;\n",
       "    var timer = setInterval(function(root) {\n",
       "      if (root.Bokeh !== undefined && root.Bokeh.Panel !== undefined) {\n",
       "        clearInterval(timer);\n",
       "        embed_document(root);\n",
       "      } else if (document.readyState == \"complete\") {\n",
       "        attempts++;\n",
       "        if (attempts > 100) {\n",
       "          clearInterval(timer);\n",
       "          console.log(\"Bokeh: ERROR: Unable to run BokehJS code because BokehJS library is missing\");\n",
       "        }\n",
       "      }\n",
       "    }, 10, root)\n",
       "  }\n",
       "})(window);</script>"
      ],
      "text/plain": [
       ":NdOverlay   [class]\n",
       "   :Scatter   [Annual Income]   (Spending Score (1-100))"
      ]
     },
     "execution_count": 21,
     "metadata": {
      "application/vnd.holoviews_exec.v0+json": {
       "id": "1430"
      }
     },
     "output_type": "execute_result"
    }
   ],
   "source": [
    "test_cluster_amount(df_shopping, 2)\n",
    "df_shopping.hvplot.scatter(x=\"Annual Income\", y=\"Spending Score (1-100)\", by=\"class\")"
   ]
  },
  {
   "cell_type": "code",
   "execution_count": 22,
   "metadata": {},
   "outputs": [
    {
     "data": {
      "application/vnd.plotly.v1+json": {
       "config": {
        "plotlyServerURL": "https://plot.ly"
       },
       "data": [
        {
         "hovertemplate": "class=%{marker.color}<br>Annual Income=%{x}<br>Spending Score (1-100)=%{y}<br>Age=%{z}<extra></extra>",
         "legendgroup": "1",
         "marker": {
          "color": [
           1,
           1,
           1,
           1,
           1,
           1,
           1,
           1,
           1,
           1,
           1,
           1,
           1,
           1,
           1,
           1,
           1,
           1,
           1,
           1,
           1,
           1,
           1,
           1,
           1,
           1,
           1,
           1,
           1,
           1,
           1,
           1,
           1,
           1,
           1,
           1,
           1,
           1,
           1,
           1,
           1,
           1,
           1,
           1,
           1,
           1,
           1,
           1,
           1,
           1,
           1,
           1,
           1,
           1,
           1,
           1,
           1,
           1,
           1,
           1,
           1,
           1,
           1,
           1,
           1,
           1,
           1,
           1,
           1,
           1,
           1,
           1,
           1,
           1,
           1,
           1,
           1,
           1,
           1,
           1,
           1,
           1,
           1,
           1,
           1,
           1,
           1,
           1,
           1,
           1
          ],
          "coloraxis": "coloraxis",
          "symbol": "circle"
         },
         "mode": "markers",
         "name": "1",
         "scene": "scene",
         "showlegend": true,
         "type": "scatter3d",
         "x": [
          150,
          150,
          160,
          160,
          170,
          170,
          180,
          180,
          190,
          190,
          190,
          190,
          200,
          200,
          200,
          200,
          210,
          210,
          230,
          230,
          240,
          240,
          250,
          250,
          280,
          280,
          280,
          280,
          290,
          290,
          300,
          300,
          330,
          330,
          330,
          330,
          340,
          340,
          370,
          370,
          380,
          380,
          390,
          390,
          390,
          390,
          400,
          400,
          400,
          400,
          420,
          420,
          430,
          430,
          430,
          430,
          440,
          440,
          460,
          460,
          460,
          460,
          470,
          470,
          480,
          480,
          480,
          480,
          480,
          480,
          490,
          490,
          500,
          500,
          540,
          540,
          540,
          540,
          540,
          540,
          540,
          540,
          540,
          540,
          540,
          540,
          570,
          570,
          580,
          580
         ],
         "y": [
          39,
          81,
          6,
          77,
          40,
          76,
          6,
          94,
          3,
          72,
          14,
          99,
          15,
          77,
          13,
          79,
          35,
          66,
          29,
          98,
          35,
          73,
          5,
          73,
          14,
          82,
          32,
          61,
          31,
          87,
          4,
          73,
          4,
          92,
          14,
          81,
          17,
          73,
          26,
          75,
          35,
          92,
          36,
          61,
          28,
          65,
          55,
          47,
          42,
          42,
          52,
          60,
          54,
          60,
          45,
          41,
          50,
          46,
          51,
          46,
          56,
          55,
          52,
          59,
          51,
          59,
          50,
          48,
          59,
          47,
          55,
          42,
          49,
          56,
          47,
          54,
          53,
          48,
          52,
          42,
          51,
          55,
          41,
          44,
          57,
          46,
          58,
          55,
          60,
          46
         ],
         "z": [
          19,
          21,
          20,
          23,
          31,
          22,
          35,
          23,
          64,
          30,
          67,
          35,
          58,
          24,
          37,
          22,
          35,
          20,
          52,
          35,
          35,
          25,
          46,
          31,
          54,
          29,
          45,
          35,
          40,
          23,
          60,
          21,
          53,
          18,
          49,
          21,
          42,
          30,
          36,
          20,
          65,
          24,
          48,
          31,
          49,
          24,
          50,
          27,
          29,
          31,
          49,
          33,
          31,
          59,
          50,
          47,
          51,
          69,
          27,
          53,
          70,
          19,
          67,
          54,
          63,
          18,
          43,
          68,
          19,
          32,
          70,
          47,
          60,
          60,
          59,
          26,
          45,
          40,
          23,
          49,
          57,
          38,
          67,
          46,
          21,
          48,
          55,
          22,
          34,
          50
         ]
        },
        {
         "hovertemplate": "class=%{marker.color}<br>Annual Income=%{x}<br>Spending Score (1-100)=%{y}<br>Age=%{z}<extra></extra>",
         "legendgroup": "0",
         "marker": {
          "color": [
           0,
           0,
           0,
           0,
           0,
           0,
           0,
           0,
           0,
           0,
           0,
           0,
           0,
           0,
           0,
           0,
           0,
           0,
           0,
           0,
           0,
           0,
           0,
           0,
           0,
           0,
           0,
           0,
           0,
           0,
           0,
           0,
           0,
           0,
           0,
           0,
           0,
           0,
           0,
           0,
           0,
           0,
           0,
           0,
           0,
           0,
           0,
           0,
           0,
           0,
           0,
           0,
           0,
           0,
           0,
           0,
           0,
           0,
           0,
           0,
           0,
           0,
           0,
           0,
           0,
           0,
           0,
           0,
           0,
           0,
           0,
           0,
           0,
           0,
           0,
           0,
           0,
           0,
           0,
           0,
           0,
           0,
           0,
           0,
           0,
           0,
           0,
           0,
           0,
           0,
           0,
           0,
           0,
           0,
           0,
           0,
           0,
           0,
           0,
           0,
           0,
           0,
           0,
           0,
           0,
           0,
           0,
           0,
           0,
           0
          ],
          "coloraxis": "coloraxis",
          "symbol": "diamond"
         },
         "mode": "markers",
         "name": "0",
         "scene": "scene",
         "showlegend": true,
         "type": "scatter3d",
         "x": [
          590,
          590,
          600,
          600,
          600,
          600,
          600,
          600,
          610,
          610,
          620,
          620,
          620,
          620,
          620,
          620,
          630,
          630,
          630,
          630,
          630,
          630,
          640,
          640,
          650,
          650,
          650,
          650,
          670,
          670,
          670,
          670,
          690,
          690,
          700,
          700,
          710,
          710,
          710,
          710,
          710,
          710,
          720,
          720,
          730,
          730,
          730,
          730,
          740,
          740,
          750,
          750,
          760,
          760,
          770,
          770,
          770,
          770,
          780,
          780,
          780,
          780,
          780,
          780,
          780,
          780,
          780,
          780,
          780,
          780,
          790,
          790,
          810,
          810,
          850,
          850,
          860,
          860,
          870,
          870,
          870,
          870,
          870,
          870,
          880,
          880,
          880,
          880,
          930,
          930,
          970,
          970,
          980,
          980,
          990,
          990,
          1010,
          1010,
          1030,
          1030,
          1030,
          1030,
          1130,
          1130,
          1200,
          1200,
          1260,
          1260,
          1370,
          1370
         ],
         "y": [
          55,
          41,
          49,
          40,
          42,
          52,
          47,
          50,
          42,
          49,
          41,
          48,
          59,
          55,
          56,
          42,
          50,
          46,
          43,
          48,
          52,
          54,
          42,
          46,
          48,
          50,
          43,
          59,
          43,
          57,
          56,
          40,
          58,
          91,
          29,
          77,
          35,
          95,
          11,
          75,
          9,
          75,
          34,
          71,
          5,
          88,
          7,
          73,
          10,
          72,
          5,
          93,
          40,
          87,
          12,
          97,
          36,
          74,
          22,
          90,
          17,
          88,
          20,
          76,
          16,
          89,
          1,
          78,
          1,
          73,
          35,
          83,
          5,
          93,
          26,
          75,
          20,
          95,
          27,
          63,
          13,
          75,
          10,
          92,
          13,
          86,
          15,
          69,
          14,
          90,
          32,
          86,
          15,
          88,
          39,
          97,
          24,
          68,
          17,
          85,
          23,
          69,
          8,
          91,
          16,
          79,
          28,
          74,
          18,
          83
         ],
         "z": [
          68,
          18,
          48,
          40,
          32,
          24,
          47,
          27,
          48,
          20,
          23,
          49,
          67,
          26,
          49,
          21,
          66,
          54,
          68,
          66,
          65,
          19,
          38,
          19,
          18,
          19,
          63,
          49,
          51,
          50,
          27,
          38,
          40,
          39,
          23,
          31,
          43,
          40,
          59,
          38,
          47,
          39,
          25,
          31,
          20,
          29,
          44,
          32,
          19,
          35,
          57,
          32,
          28,
          32,
          25,
          28,
          48,
          32,
          34,
          34,
          43,
          39,
          44,
          38,
          47,
          27,
          37,
          30,
          34,
          30,
          56,
          29,
          19,
          31,
          50,
          36,
          42,
          33,
          36,
          32,
          40,
          28,
          36,
          36,
          52,
          30,
          58,
          27,
          59,
          35,
          37,
          32,
          46,
          29,
          41,
          30,
          54,
          28,
          41,
          36,
          34,
          32,
          33,
          38,
          47,
          35,
          45,
          32,
          32,
          30
         ]
        }
       ],
       "layout": {
        "coloraxis": {
         "colorbar": {
          "title": {
           "text": "class"
          }
         },
         "colorscale": [
          [
           0,
           "#0d0887"
          ],
          [
           0.1111111111111111,
           "#46039f"
          ],
          [
           0.2222222222222222,
           "#7201a8"
          ],
          [
           0.3333333333333333,
           "#9c179e"
          ],
          [
           0.4444444444444444,
           "#bd3786"
          ],
          [
           0.5555555555555556,
           "#d8576b"
          ],
          [
           0.6666666666666666,
           "#ed7953"
          ],
          [
           0.7777777777777778,
           "#fb9f3a"
          ],
          [
           0.8888888888888888,
           "#fdca26"
          ],
          [
           1,
           "#f0f921"
          ]
         ]
        },
        "legend": {
         "title": {
          "text": "class"
         },
         "tracegroupgap": 0,
         "x": 0,
         "y": 1
        },
        "margin": {
         "t": 60
        },
        "scene": {
         "domain": {
          "x": [
           0,
           1
          ],
          "y": [
           0,
           1
          ]
         },
         "xaxis": {
          "title": {
           "text": "Annual Income"
          }
         },
         "yaxis": {
          "title": {
           "text": "Spending Score (1-100)"
          }
         },
         "zaxis": {
          "title": {
           "text": "Age"
          }
         }
        },
        "template": {
         "data": {
          "bar": [
           {
            "error_x": {
             "color": "#2a3f5f"
            },
            "error_y": {
             "color": "#2a3f5f"
            },
            "marker": {
             "line": {
              "color": "#E5ECF6",
              "width": 0.5
             }
            },
            "type": "bar"
           }
          ],
          "barpolar": [
           {
            "marker": {
             "line": {
              "color": "#E5ECF6",
              "width": 0.5
             }
            },
            "type": "barpolar"
           }
          ],
          "carpet": [
           {
            "aaxis": {
             "endlinecolor": "#2a3f5f",
             "gridcolor": "white",
             "linecolor": "white",
             "minorgridcolor": "white",
             "startlinecolor": "#2a3f5f"
            },
            "baxis": {
             "endlinecolor": "#2a3f5f",
             "gridcolor": "white",
             "linecolor": "white",
             "minorgridcolor": "white",
             "startlinecolor": "#2a3f5f"
            },
            "type": "carpet"
           }
          ],
          "choropleth": [
           {
            "colorbar": {
             "outlinewidth": 0,
             "ticks": ""
            },
            "type": "choropleth"
           }
          ],
          "contour": [
           {
            "colorbar": {
             "outlinewidth": 0,
             "ticks": ""
            },
            "colorscale": [
             [
              0,
              "#0d0887"
             ],
             [
              0.1111111111111111,
              "#46039f"
             ],
             [
              0.2222222222222222,
              "#7201a8"
             ],
             [
              0.3333333333333333,
              "#9c179e"
             ],
             [
              0.4444444444444444,
              "#bd3786"
             ],
             [
              0.5555555555555556,
              "#d8576b"
             ],
             [
              0.6666666666666666,
              "#ed7953"
             ],
             [
              0.7777777777777778,
              "#fb9f3a"
             ],
             [
              0.8888888888888888,
              "#fdca26"
             ],
             [
              1,
              "#f0f921"
             ]
            ],
            "type": "contour"
           }
          ],
          "contourcarpet": [
           {
            "colorbar": {
             "outlinewidth": 0,
             "ticks": ""
            },
            "type": "contourcarpet"
           }
          ],
          "heatmap": [
           {
            "colorbar": {
             "outlinewidth": 0,
             "ticks": ""
            },
            "colorscale": [
             [
              0,
              "#0d0887"
             ],
             [
              0.1111111111111111,
              "#46039f"
             ],
             [
              0.2222222222222222,
              "#7201a8"
             ],
             [
              0.3333333333333333,
              "#9c179e"
             ],
             [
              0.4444444444444444,
              "#bd3786"
             ],
             [
              0.5555555555555556,
              "#d8576b"
             ],
             [
              0.6666666666666666,
              "#ed7953"
             ],
             [
              0.7777777777777778,
              "#fb9f3a"
             ],
             [
              0.8888888888888888,
              "#fdca26"
             ],
             [
              1,
              "#f0f921"
             ]
            ],
            "type": "heatmap"
           }
          ],
          "heatmapgl": [
           {
            "colorbar": {
             "outlinewidth": 0,
             "ticks": ""
            },
            "colorscale": [
             [
              0,
              "#0d0887"
             ],
             [
              0.1111111111111111,
              "#46039f"
             ],
             [
              0.2222222222222222,
              "#7201a8"
             ],
             [
              0.3333333333333333,
              "#9c179e"
             ],
             [
              0.4444444444444444,
              "#bd3786"
             ],
             [
              0.5555555555555556,
              "#d8576b"
             ],
             [
              0.6666666666666666,
              "#ed7953"
             ],
             [
              0.7777777777777778,
              "#fb9f3a"
             ],
             [
              0.8888888888888888,
              "#fdca26"
             ],
             [
              1,
              "#f0f921"
             ]
            ],
            "type": "heatmapgl"
           }
          ],
          "histogram": [
           {
            "marker": {
             "colorbar": {
              "outlinewidth": 0,
              "ticks": ""
             }
            },
            "type": "histogram"
           }
          ],
          "histogram2d": [
           {
            "colorbar": {
             "outlinewidth": 0,
             "ticks": ""
            },
            "colorscale": [
             [
              0,
              "#0d0887"
             ],
             [
              0.1111111111111111,
              "#46039f"
             ],
             [
              0.2222222222222222,
              "#7201a8"
             ],
             [
              0.3333333333333333,
              "#9c179e"
             ],
             [
              0.4444444444444444,
              "#bd3786"
             ],
             [
              0.5555555555555556,
              "#d8576b"
             ],
             [
              0.6666666666666666,
              "#ed7953"
             ],
             [
              0.7777777777777778,
              "#fb9f3a"
             ],
             [
              0.8888888888888888,
              "#fdca26"
             ],
             [
              1,
              "#f0f921"
             ]
            ],
            "type": "histogram2d"
           }
          ],
          "histogram2dcontour": [
           {
            "colorbar": {
             "outlinewidth": 0,
             "ticks": ""
            },
            "colorscale": [
             [
              0,
              "#0d0887"
             ],
             [
              0.1111111111111111,
              "#46039f"
             ],
             [
              0.2222222222222222,
              "#7201a8"
             ],
             [
              0.3333333333333333,
              "#9c179e"
             ],
             [
              0.4444444444444444,
              "#bd3786"
             ],
             [
              0.5555555555555556,
              "#d8576b"
             ],
             [
              0.6666666666666666,
              "#ed7953"
             ],
             [
              0.7777777777777778,
              "#fb9f3a"
             ],
             [
              0.8888888888888888,
              "#fdca26"
             ],
             [
              1,
              "#f0f921"
             ]
            ],
            "type": "histogram2dcontour"
           }
          ],
          "mesh3d": [
           {
            "colorbar": {
             "outlinewidth": 0,
             "ticks": ""
            },
            "type": "mesh3d"
           }
          ],
          "parcoords": [
           {
            "line": {
             "colorbar": {
              "outlinewidth": 0,
              "ticks": ""
             }
            },
            "type": "parcoords"
           }
          ],
          "pie": [
           {
            "automargin": true,
            "type": "pie"
           }
          ],
          "scatter": [
           {
            "marker": {
             "colorbar": {
              "outlinewidth": 0,
              "ticks": ""
             }
            },
            "type": "scatter"
           }
          ],
          "scatter3d": [
           {
            "line": {
             "colorbar": {
              "outlinewidth": 0,
              "ticks": ""
             }
            },
            "marker": {
             "colorbar": {
              "outlinewidth": 0,
              "ticks": ""
             }
            },
            "type": "scatter3d"
           }
          ],
          "scattercarpet": [
           {
            "marker": {
             "colorbar": {
              "outlinewidth": 0,
              "ticks": ""
             }
            },
            "type": "scattercarpet"
           }
          ],
          "scattergeo": [
           {
            "marker": {
             "colorbar": {
              "outlinewidth": 0,
              "ticks": ""
             }
            },
            "type": "scattergeo"
           }
          ],
          "scattergl": [
           {
            "marker": {
             "colorbar": {
              "outlinewidth": 0,
              "ticks": ""
             }
            },
            "type": "scattergl"
           }
          ],
          "scattermapbox": [
           {
            "marker": {
             "colorbar": {
              "outlinewidth": 0,
              "ticks": ""
             }
            },
            "type": "scattermapbox"
           }
          ],
          "scatterpolar": [
           {
            "marker": {
             "colorbar": {
              "outlinewidth": 0,
              "ticks": ""
             }
            },
            "type": "scatterpolar"
           }
          ],
          "scatterpolargl": [
           {
            "marker": {
             "colorbar": {
              "outlinewidth": 0,
              "ticks": ""
             }
            },
            "type": "scatterpolargl"
           }
          ],
          "scatterternary": [
           {
            "marker": {
             "colorbar": {
              "outlinewidth": 0,
              "ticks": ""
             }
            },
            "type": "scatterternary"
           }
          ],
          "surface": [
           {
            "colorbar": {
             "outlinewidth": 0,
             "ticks": ""
            },
            "colorscale": [
             [
              0,
              "#0d0887"
             ],
             [
              0.1111111111111111,
              "#46039f"
             ],
             [
              0.2222222222222222,
              "#7201a8"
             ],
             [
              0.3333333333333333,
              "#9c179e"
             ],
             [
              0.4444444444444444,
              "#bd3786"
             ],
             [
              0.5555555555555556,
              "#d8576b"
             ],
             [
              0.6666666666666666,
              "#ed7953"
             ],
             [
              0.7777777777777778,
              "#fb9f3a"
             ],
             [
              0.8888888888888888,
              "#fdca26"
             ],
             [
              1,
              "#f0f921"
             ]
            ],
            "type": "surface"
           }
          ],
          "table": [
           {
            "cells": {
             "fill": {
              "color": "#EBF0F8"
             },
             "line": {
              "color": "white"
             }
            },
            "header": {
             "fill": {
              "color": "#C8D4E3"
             },
             "line": {
              "color": "white"
             }
            },
            "type": "table"
           }
          ]
         },
         "layout": {
          "annotationdefaults": {
           "arrowcolor": "#2a3f5f",
           "arrowhead": 0,
           "arrowwidth": 1
          },
          "autotypenumbers": "strict",
          "coloraxis": {
           "colorbar": {
            "outlinewidth": 0,
            "ticks": ""
           }
          },
          "colorscale": {
           "diverging": [
            [
             0,
             "#8e0152"
            ],
            [
             0.1,
             "#c51b7d"
            ],
            [
             0.2,
             "#de77ae"
            ],
            [
             0.3,
             "#f1b6da"
            ],
            [
             0.4,
             "#fde0ef"
            ],
            [
             0.5,
             "#f7f7f7"
            ],
            [
             0.6,
             "#e6f5d0"
            ],
            [
             0.7,
             "#b8e186"
            ],
            [
             0.8,
             "#7fbc41"
            ],
            [
             0.9,
             "#4d9221"
            ],
            [
             1,
             "#276419"
            ]
           ],
           "sequential": [
            [
             0,
             "#0d0887"
            ],
            [
             0.1111111111111111,
             "#46039f"
            ],
            [
             0.2222222222222222,
             "#7201a8"
            ],
            [
             0.3333333333333333,
             "#9c179e"
            ],
            [
             0.4444444444444444,
             "#bd3786"
            ],
            [
             0.5555555555555556,
             "#d8576b"
            ],
            [
             0.6666666666666666,
             "#ed7953"
            ],
            [
             0.7777777777777778,
             "#fb9f3a"
            ],
            [
             0.8888888888888888,
             "#fdca26"
            ],
            [
             1,
             "#f0f921"
            ]
           ],
           "sequentialminus": [
            [
             0,
             "#0d0887"
            ],
            [
             0.1111111111111111,
             "#46039f"
            ],
            [
             0.2222222222222222,
             "#7201a8"
            ],
            [
             0.3333333333333333,
             "#9c179e"
            ],
            [
             0.4444444444444444,
             "#bd3786"
            ],
            [
             0.5555555555555556,
             "#d8576b"
            ],
            [
             0.6666666666666666,
             "#ed7953"
            ],
            [
             0.7777777777777778,
             "#fb9f3a"
            ],
            [
             0.8888888888888888,
             "#fdca26"
            ],
            [
             1,
             "#f0f921"
            ]
           ]
          },
          "colorway": [
           "#636efa",
           "#EF553B",
           "#00cc96",
           "#ab63fa",
           "#FFA15A",
           "#19d3f3",
           "#FF6692",
           "#B6E880",
           "#FF97FF",
           "#FECB52"
          ],
          "font": {
           "color": "#2a3f5f"
          },
          "geo": {
           "bgcolor": "white",
           "lakecolor": "white",
           "landcolor": "#E5ECF6",
           "showlakes": true,
           "showland": true,
           "subunitcolor": "white"
          },
          "hoverlabel": {
           "align": "left"
          },
          "hovermode": "closest",
          "mapbox": {
           "style": "light"
          },
          "paper_bgcolor": "white",
          "plot_bgcolor": "#E5ECF6",
          "polar": {
           "angularaxis": {
            "gridcolor": "white",
            "linecolor": "white",
            "ticks": ""
           },
           "bgcolor": "#E5ECF6",
           "radialaxis": {
            "gridcolor": "white",
            "linecolor": "white",
            "ticks": ""
           }
          },
          "scene": {
           "xaxis": {
            "backgroundcolor": "#E5ECF6",
            "gridcolor": "white",
            "gridwidth": 2,
            "linecolor": "white",
            "showbackground": true,
            "ticks": "",
            "zerolinecolor": "white"
           },
           "yaxis": {
            "backgroundcolor": "#E5ECF6",
            "gridcolor": "white",
            "gridwidth": 2,
            "linecolor": "white",
            "showbackground": true,
            "ticks": "",
            "zerolinecolor": "white"
           },
           "zaxis": {
            "backgroundcolor": "#E5ECF6",
            "gridcolor": "white",
            "gridwidth": 2,
            "linecolor": "white",
            "showbackground": true,
            "ticks": "",
            "zerolinecolor": "white"
           }
          },
          "shapedefaults": {
           "line": {
            "color": "#2a3f5f"
           }
          },
          "ternary": {
           "aaxis": {
            "gridcolor": "white",
            "linecolor": "white",
            "ticks": ""
           },
           "baxis": {
            "gridcolor": "white",
            "linecolor": "white",
            "ticks": ""
           },
           "bgcolor": "#E5ECF6",
           "caxis": {
            "gridcolor": "white",
            "linecolor": "white",
            "ticks": ""
           }
          },
          "title": {
           "x": 0.05
          },
          "xaxis": {
           "automargin": true,
           "gridcolor": "white",
           "linecolor": "white",
           "ticks": "",
           "title": {
            "standoff": 15
           },
           "zerolinecolor": "white",
           "zerolinewidth": 2
          },
          "yaxis": {
           "automargin": true,
           "gridcolor": "white",
           "linecolor": "white",
           "ticks": "",
           "title": {
            "standoff": 15
           },
           "zerolinecolor": "white",
           "zerolinewidth": 2
          }
         }
        },
        "width": 800
       }
      },
      "text/html": [
       "<div>                            <div id=\"d218eb24-92f9-4658-9bba-b0437c884e2a\" class=\"plotly-graph-div\" style=\"height:525px; width:800px;\"></div>            <script type=\"text/javascript\">                require([\"plotly\"], function(Plotly) {                    window.PLOTLYENV=window.PLOTLYENV || {};                                    if (document.getElementById(\"d218eb24-92f9-4658-9bba-b0437c884e2a\")) {                    Plotly.newPlot(                        \"d218eb24-92f9-4658-9bba-b0437c884e2a\",                        [{\"hovertemplate\": \"class=%{marker.color}<br>Annual Income=%{x}<br>Spending Score (1-100)=%{y}<br>Age=%{z}<extra></extra>\", \"legendgroup\": \"1\", \"marker\": {\"color\": [1, 1, 1, 1, 1, 1, 1, 1, 1, 1, 1, 1, 1, 1, 1, 1, 1, 1, 1, 1, 1, 1, 1, 1, 1, 1, 1, 1, 1, 1, 1, 1, 1, 1, 1, 1, 1, 1, 1, 1, 1, 1, 1, 1, 1, 1, 1, 1, 1, 1, 1, 1, 1, 1, 1, 1, 1, 1, 1, 1, 1, 1, 1, 1, 1, 1, 1, 1, 1, 1, 1, 1, 1, 1, 1, 1, 1, 1, 1, 1, 1, 1, 1, 1, 1, 1, 1, 1, 1, 1], \"coloraxis\": \"coloraxis\", \"symbol\": \"circle\"}, \"mode\": \"markers\", \"name\": \"1\", \"scene\": \"scene\", \"showlegend\": true, \"type\": \"scatter3d\", \"x\": [150.0, 150.0, 160.0, 160.0, 170.0, 170.0, 180.0, 180.0, 190.0, 190.0, 190.0, 190.0, 200.0, 200.0, 200.0, 200.0, 210.0, 210.0, 230.0, 230.0, 240.0, 240.0, 250.0, 250.0, 280.0, 280.0, 280.0, 280.0, 290.0, 290.0, 300.0, 300.0, 330.0, 330.0, 330.0, 330.0, 340.0, 340.0, 370.0, 370.0, 380.0, 380.0, 390.0, 390.0, 390.0, 390.0, 400.0, 400.0, 400.0, 400.0, 420.0, 420.0, 430.0, 430.0, 430.0, 430.0, 440.0, 440.0, 460.0, 460.0, 460.0, 460.0, 470.0, 470.0, 480.0, 480.0, 480.0, 480.0, 480.0, 480.0, 490.0, 490.0, 500.0, 500.0, 540.0, 540.0, 540.0, 540.0, 540.0, 540.0, 540.0, 540.0, 540.0, 540.0, 540.0, 540.0, 570.0, 570.0, 580.0, 580.0], \"y\": [39.0, 81.0, 6.0, 77.0, 40.0, 76.0, 6.0, 94.0, 3.0, 72.0, 14.0, 99.0, 15.0, 77.0, 13.0, 79.0, 35.0, 66.0, 29.0, 98.0, 35.0, 73.0, 5.0, 73.0, 14.0, 82.0, 32.0, 61.0, 31.0, 87.0, 4.0, 73.0, 4.0, 92.0, 14.0, 81.0, 17.0, 73.0, 26.0, 75.0, 35.0, 92.0, 36.0, 61.0, 28.0, 65.0, 55.0, 47.0, 42.0, 42.0, 52.0, 60.0, 54.0, 60.0, 45.0, 41.0, 50.0, 46.0, 51.0, 46.0, 56.0, 55.0, 52.0, 59.0, 51.0, 59.0, 50.0, 48.0, 59.0, 47.0, 55.0, 42.0, 49.0, 56.0, 47.0, 54.0, 53.0, 48.0, 52.0, 42.0, 51.0, 55.0, 41.0, 44.0, 57.0, 46.0, 58.0, 55.0, 60.0, 46.0], \"z\": [19.0, 21.0, 20.0, 23.0, 31.0, 22.0, 35.0, 23.0, 64.0, 30.0, 67.0, 35.0, 58.0, 24.0, 37.0, 22.0, 35.0, 20.0, 52.0, 35.0, 35.0, 25.0, 46.0, 31.0, 54.0, 29.0, 45.0, 35.0, 40.0, 23.0, 60.0, 21.0, 53.0, 18.0, 49.0, 21.0, 42.0, 30.0, 36.0, 20.0, 65.0, 24.0, 48.0, 31.0, 49.0, 24.0, 50.0, 27.0, 29.0, 31.0, 49.0, 33.0, 31.0, 59.0, 50.0, 47.0, 51.0, 69.0, 27.0, 53.0, 70.0, 19.0, 67.0, 54.0, 63.0, 18.0, 43.0, 68.0, 19.0, 32.0, 70.0, 47.0, 60.0, 60.0, 59.0, 26.0, 45.0, 40.0, 23.0, 49.0, 57.0, 38.0, 67.0, 46.0, 21.0, 48.0, 55.0, 22.0, 34.0, 50.0]}, {\"hovertemplate\": \"class=%{marker.color}<br>Annual Income=%{x}<br>Spending Score (1-100)=%{y}<br>Age=%{z}<extra></extra>\", \"legendgroup\": \"0\", \"marker\": {\"color\": [0, 0, 0, 0, 0, 0, 0, 0, 0, 0, 0, 0, 0, 0, 0, 0, 0, 0, 0, 0, 0, 0, 0, 0, 0, 0, 0, 0, 0, 0, 0, 0, 0, 0, 0, 0, 0, 0, 0, 0, 0, 0, 0, 0, 0, 0, 0, 0, 0, 0, 0, 0, 0, 0, 0, 0, 0, 0, 0, 0, 0, 0, 0, 0, 0, 0, 0, 0, 0, 0, 0, 0, 0, 0, 0, 0, 0, 0, 0, 0, 0, 0, 0, 0, 0, 0, 0, 0, 0, 0, 0, 0, 0, 0, 0, 0, 0, 0, 0, 0, 0, 0, 0, 0, 0, 0, 0, 0, 0, 0], \"coloraxis\": \"coloraxis\", \"symbol\": \"diamond\"}, \"mode\": \"markers\", \"name\": \"0\", \"scene\": \"scene\", \"showlegend\": true, \"type\": \"scatter3d\", \"x\": [590.0, 590.0, 600.0, 600.0, 600.0, 600.0, 600.0, 600.0, 610.0, 610.0, 620.0, 620.0, 620.0, 620.0, 620.0, 620.0, 630.0, 630.0, 630.0, 630.0, 630.0, 630.0, 640.0, 640.0, 650.0, 650.0, 650.0, 650.0, 670.0, 670.0, 670.0, 670.0, 690.0, 690.0, 700.0, 700.0, 710.0, 710.0, 710.0, 710.0, 710.0, 710.0, 720.0, 720.0, 730.0, 730.0, 730.0, 730.0, 740.0, 740.0, 750.0, 750.0, 760.0, 760.0, 770.0, 770.0, 770.0, 770.0, 780.0, 780.0, 780.0, 780.0, 780.0, 780.0, 780.0, 780.0, 780.0, 780.0, 780.0, 780.0, 790.0, 790.0, 810.0, 810.0, 850.0, 850.0, 860.0, 860.0, 870.0, 870.0, 870.0, 870.0, 870.0, 870.0, 880.0, 880.0, 880.0, 880.0, 930.0, 930.0, 970.0, 970.0, 980.0, 980.0, 990.0, 990.0, 1010.0, 1010.0, 1030.0, 1030.0, 1030.0, 1030.0, 1130.0, 1130.0, 1200.0, 1200.0, 1260.0, 1260.0, 1370.0, 1370.0], \"y\": [55.0, 41.0, 49.0, 40.0, 42.0, 52.0, 47.0, 50.0, 42.0, 49.0, 41.0, 48.0, 59.0, 55.0, 56.0, 42.0, 50.0, 46.0, 43.0, 48.0, 52.0, 54.0, 42.0, 46.0, 48.0, 50.0, 43.0, 59.0, 43.0, 57.0, 56.0, 40.0, 58.0, 91.0, 29.0, 77.0, 35.0, 95.0, 11.0, 75.0, 9.0, 75.0, 34.0, 71.0, 5.0, 88.0, 7.0, 73.0, 10.0, 72.0, 5.0, 93.0, 40.0, 87.0, 12.0, 97.0, 36.0, 74.0, 22.0, 90.0, 17.0, 88.0, 20.0, 76.0, 16.0, 89.0, 1.0, 78.0, 1.0, 73.0, 35.0, 83.0, 5.0, 93.0, 26.0, 75.0, 20.0, 95.0, 27.0, 63.0, 13.0, 75.0, 10.0, 92.0, 13.0, 86.0, 15.0, 69.0, 14.0, 90.0, 32.0, 86.0, 15.0, 88.0, 39.0, 97.0, 24.0, 68.0, 17.0, 85.0, 23.0, 69.0, 8.0, 91.0, 16.0, 79.0, 28.0, 74.0, 18.0, 83.0], \"z\": [68.0, 18.0, 48.0, 40.0, 32.0, 24.0, 47.0, 27.0, 48.0, 20.0, 23.0, 49.0, 67.0, 26.0, 49.0, 21.0, 66.0, 54.0, 68.0, 66.0, 65.0, 19.0, 38.0, 19.0, 18.0, 19.0, 63.0, 49.0, 51.0, 50.0, 27.0, 38.0, 40.0, 39.0, 23.0, 31.0, 43.0, 40.0, 59.0, 38.0, 47.0, 39.0, 25.0, 31.0, 20.0, 29.0, 44.0, 32.0, 19.0, 35.0, 57.0, 32.0, 28.0, 32.0, 25.0, 28.0, 48.0, 32.0, 34.0, 34.0, 43.0, 39.0, 44.0, 38.0, 47.0, 27.0, 37.0, 30.0, 34.0, 30.0, 56.0, 29.0, 19.0, 31.0, 50.0, 36.0, 42.0, 33.0, 36.0, 32.0, 40.0, 28.0, 36.0, 36.0, 52.0, 30.0, 58.0, 27.0, 59.0, 35.0, 37.0, 32.0, 46.0, 29.0, 41.0, 30.0, 54.0, 28.0, 41.0, 36.0, 34.0, 32.0, 33.0, 38.0, 47.0, 35.0, 45.0, 32.0, 32.0, 30.0]}],                        {\"coloraxis\": {\"colorbar\": {\"title\": {\"text\": \"class\"}}, \"colorscale\": [[0.0, \"#0d0887\"], [0.1111111111111111, \"#46039f\"], [0.2222222222222222, \"#7201a8\"], [0.3333333333333333, \"#9c179e\"], [0.4444444444444444, \"#bd3786\"], [0.5555555555555556, \"#d8576b\"], [0.6666666666666666, \"#ed7953\"], [0.7777777777777778, \"#fb9f3a\"], [0.8888888888888888, \"#fdca26\"], [1.0, \"#f0f921\"]]}, \"legend\": {\"title\": {\"text\": \"class\"}, \"tracegroupgap\": 0, \"x\": 0, \"y\": 1}, \"margin\": {\"t\": 60}, \"scene\": {\"domain\": {\"x\": [0.0, 1.0], \"y\": [0.0, 1.0]}, \"xaxis\": {\"title\": {\"text\": \"Annual Income\"}}, \"yaxis\": {\"title\": {\"text\": \"Spending Score (1-100)\"}}, \"zaxis\": {\"title\": {\"text\": \"Age\"}}}, \"template\": {\"data\": {\"bar\": [{\"error_x\": {\"color\": \"#2a3f5f\"}, \"error_y\": {\"color\": \"#2a3f5f\"}, \"marker\": {\"line\": {\"color\": \"#E5ECF6\", \"width\": 0.5}}, \"type\": \"bar\"}], \"barpolar\": [{\"marker\": {\"line\": {\"color\": \"#E5ECF6\", \"width\": 0.5}}, \"type\": \"barpolar\"}], \"carpet\": [{\"aaxis\": {\"endlinecolor\": \"#2a3f5f\", \"gridcolor\": \"white\", \"linecolor\": \"white\", \"minorgridcolor\": \"white\", \"startlinecolor\": \"#2a3f5f\"}, \"baxis\": {\"endlinecolor\": \"#2a3f5f\", \"gridcolor\": \"white\", \"linecolor\": \"white\", \"minorgridcolor\": \"white\", \"startlinecolor\": \"#2a3f5f\"}, \"type\": \"carpet\"}], \"choropleth\": [{\"colorbar\": {\"outlinewidth\": 0, \"ticks\": \"\"}, \"type\": \"choropleth\"}], \"contour\": [{\"colorbar\": {\"outlinewidth\": 0, \"ticks\": \"\"}, \"colorscale\": [[0.0, \"#0d0887\"], [0.1111111111111111, \"#46039f\"], [0.2222222222222222, \"#7201a8\"], [0.3333333333333333, \"#9c179e\"], [0.4444444444444444, \"#bd3786\"], [0.5555555555555556, \"#d8576b\"], [0.6666666666666666, \"#ed7953\"], [0.7777777777777778, \"#fb9f3a\"], [0.8888888888888888, \"#fdca26\"], [1.0, \"#f0f921\"]], \"type\": \"contour\"}], \"contourcarpet\": [{\"colorbar\": {\"outlinewidth\": 0, \"ticks\": \"\"}, \"type\": \"contourcarpet\"}], \"heatmap\": [{\"colorbar\": {\"outlinewidth\": 0, \"ticks\": \"\"}, \"colorscale\": [[0.0, \"#0d0887\"], [0.1111111111111111, \"#46039f\"], [0.2222222222222222, \"#7201a8\"], [0.3333333333333333, \"#9c179e\"], [0.4444444444444444, \"#bd3786\"], [0.5555555555555556, \"#d8576b\"], [0.6666666666666666, \"#ed7953\"], [0.7777777777777778, \"#fb9f3a\"], [0.8888888888888888, \"#fdca26\"], [1.0, \"#f0f921\"]], \"type\": \"heatmap\"}], \"heatmapgl\": [{\"colorbar\": {\"outlinewidth\": 0, \"ticks\": \"\"}, \"colorscale\": [[0.0, \"#0d0887\"], [0.1111111111111111, \"#46039f\"], [0.2222222222222222, \"#7201a8\"], [0.3333333333333333, \"#9c179e\"], [0.4444444444444444, \"#bd3786\"], [0.5555555555555556, \"#d8576b\"], [0.6666666666666666, \"#ed7953\"], [0.7777777777777778, \"#fb9f3a\"], [0.8888888888888888, \"#fdca26\"], [1.0, \"#f0f921\"]], \"type\": \"heatmapgl\"}], \"histogram\": [{\"marker\": {\"colorbar\": {\"outlinewidth\": 0, \"ticks\": \"\"}}, \"type\": \"histogram\"}], \"histogram2d\": [{\"colorbar\": {\"outlinewidth\": 0, \"ticks\": \"\"}, \"colorscale\": [[0.0, \"#0d0887\"], [0.1111111111111111, \"#46039f\"], [0.2222222222222222, \"#7201a8\"], [0.3333333333333333, \"#9c179e\"], [0.4444444444444444, \"#bd3786\"], [0.5555555555555556, \"#d8576b\"], [0.6666666666666666, \"#ed7953\"], [0.7777777777777778, \"#fb9f3a\"], [0.8888888888888888, \"#fdca26\"], [1.0, \"#f0f921\"]], \"type\": \"histogram2d\"}], \"histogram2dcontour\": [{\"colorbar\": {\"outlinewidth\": 0, \"ticks\": \"\"}, \"colorscale\": [[0.0, \"#0d0887\"], [0.1111111111111111, \"#46039f\"], [0.2222222222222222, \"#7201a8\"], [0.3333333333333333, \"#9c179e\"], [0.4444444444444444, \"#bd3786\"], [0.5555555555555556, \"#d8576b\"], [0.6666666666666666, \"#ed7953\"], [0.7777777777777778, \"#fb9f3a\"], [0.8888888888888888, \"#fdca26\"], [1.0, \"#f0f921\"]], \"type\": \"histogram2dcontour\"}], \"mesh3d\": [{\"colorbar\": {\"outlinewidth\": 0, \"ticks\": \"\"}, \"type\": \"mesh3d\"}], \"parcoords\": [{\"line\": {\"colorbar\": {\"outlinewidth\": 0, \"ticks\": \"\"}}, \"type\": \"parcoords\"}], \"pie\": [{\"automargin\": true, \"type\": \"pie\"}], \"scatter\": [{\"marker\": {\"colorbar\": {\"outlinewidth\": 0, \"ticks\": \"\"}}, \"type\": \"scatter\"}], \"scatter3d\": [{\"line\": {\"colorbar\": {\"outlinewidth\": 0, \"ticks\": \"\"}}, \"marker\": {\"colorbar\": {\"outlinewidth\": 0, \"ticks\": \"\"}}, \"type\": \"scatter3d\"}], \"scattercarpet\": [{\"marker\": {\"colorbar\": {\"outlinewidth\": 0, \"ticks\": \"\"}}, \"type\": \"scattercarpet\"}], \"scattergeo\": [{\"marker\": {\"colorbar\": {\"outlinewidth\": 0, \"ticks\": \"\"}}, \"type\": \"scattergeo\"}], \"scattergl\": [{\"marker\": {\"colorbar\": {\"outlinewidth\": 0, \"ticks\": \"\"}}, \"type\": \"scattergl\"}], \"scattermapbox\": [{\"marker\": {\"colorbar\": {\"outlinewidth\": 0, \"ticks\": \"\"}}, \"type\": \"scattermapbox\"}], \"scatterpolar\": [{\"marker\": {\"colorbar\": {\"outlinewidth\": 0, \"ticks\": \"\"}}, \"type\": \"scatterpolar\"}], \"scatterpolargl\": [{\"marker\": {\"colorbar\": {\"outlinewidth\": 0, \"ticks\": \"\"}}, \"type\": \"scatterpolargl\"}], \"scatterternary\": [{\"marker\": {\"colorbar\": {\"outlinewidth\": 0, \"ticks\": \"\"}}, \"type\": \"scatterternary\"}], \"surface\": [{\"colorbar\": {\"outlinewidth\": 0, \"ticks\": \"\"}, \"colorscale\": [[0.0, \"#0d0887\"], [0.1111111111111111, \"#46039f\"], [0.2222222222222222, \"#7201a8\"], [0.3333333333333333, \"#9c179e\"], [0.4444444444444444, \"#bd3786\"], [0.5555555555555556, \"#d8576b\"], [0.6666666666666666, \"#ed7953\"], [0.7777777777777778, \"#fb9f3a\"], [0.8888888888888888, \"#fdca26\"], [1.0, \"#f0f921\"]], \"type\": \"surface\"}], \"table\": [{\"cells\": {\"fill\": {\"color\": \"#EBF0F8\"}, \"line\": {\"color\": \"white\"}}, \"header\": {\"fill\": {\"color\": \"#C8D4E3\"}, \"line\": {\"color\": \"white\"}}, \"type\": \"table\"}]}, \"layout\": {\"annotationdefaults\": {\"arrowcolor\": \"#2a3f5f\", \"arrowhead\": 0, \"arrowwidth\": 1}, \"autotypenumbers\": \"strict\", \"coloraxis\": {\"colorbar\": {\"outlinewidth\": 0, \"ticks\": \"\"}}, \"colorscale\": {\"diverging\": [[0, \"#8e0152\"], [0.1, \"#c51b7d\"], [0.2, \"#de77ae\"], [0.3, \"#f1b6da\"], [0.4, \"#fde0ef\"], [0.5, \"#f7f7f7\"], [0.6, \"#e6f5d0\"], [0.7, \"#b8e186\"], [0.8, \"#7fbc41\"], [0.9, \"#4d9221\"], [1, \"#276419\"]], \"sequential\": [[0.0, \"#0d0887\"], [0.1111111111111111, \"#46039f\"], [0.2222222222222222, \"#7201a8\"], [0.3333333333333333, \"#9c179e\"], [0.4444444444444444, \"#bd3786\"], [0.5555555555555556, \"#d8576b\"], [0.6666666666666666, \"#ed7953\"], [0.7777777777777778, \"#fb9f3a\"], [0.8888888888888888, \"#fdca26\"], [1.0, \"#f0f921\"]], \"sequentialminus\": [[0.0, \"#0d0887\"], [0.1111111111111111, \"#46039f\"], [0.2222222222222222, \"#7201a8\"], [0.3333333333333333, \"#9c179e\"], [0.4444444444444444, \"#bd3786\"], [0.5555555555555556, \"#d8576b\"], [0.6666666666666666, \"#ed7953\"], [0.7777777777777778, \"#fb9f3a\"], [0.8888888888888888, \"#fdca26\"], [1.0, \"#f0f921\"]]}, \"colorway\": [\"#636efa\", \"#EF553B\", \"#00cc96\", \"#ab63fa\", \"#FFA15A\", \"#19d3f3\", \"#FF6692\", \"#B6E880\", \"#FF97FF\", \"#FECB52\"], \"font\": {\"color\": \"#2a3f5f\"}, \"geo\": {\"bgcolor\": \"white\", \"lakecolor\": \"white\", \"landcolor\": \"#E5ECF6\", \"showlakes\": true, \"showland\": true, \"subunitcolor\": \"white\"}, \"hoverlabel\": {\"align\": \"left\"}, \"hovermode\": \"closest\", \"mapbox\": {\"style\": \"light\"}, \"paper_bgcolor\": \"white\", \"plot_bgcolor\": \"#E5ECF6\", \"polar\": {\"angularaxis\": {\"gridcolor\": \"white\", \"linecolor\": \"white\", \"ticks\": \"\"}, \"bgcolor\": \"#E5ECF6\", \"radialaxis\": {\"gridcolor\": \"white\", \"linecolor\": \"white\", \"ticks\": \"\"}}, \"scene\": {\"xaxis\": {\"backgroundcolor\": \"#E5ECF6\", \"gridcolor\": \"white\", \"gridwidth\": 2, \"linecolor\": \"white\", \"showbackground\": true, \"ticks\": \"\", \"zerolinecolor\": \"white\"}, \"yaxis\": {\"backgroundcolor\": \"#E5ECF6\", \"gridcolor\": \"white\", \"gridwidth\": 2, \"linecolor\": \"white\", \"showbackground\": true, \"ticks\": \"\", \"zerolinecolor\": \"white\"}, \"zaxis\": {\"backgroundcolor\": \"#E5ECF6\", \"gridcolor\": \"white\", \"gridwidth\": 2, \"linecolor\": \"white\", \"showbackground\": true, \"ticks\": \"\", \"zerolinecolor\": \"white\"}}, \"shapedefaults\": {\"line\": {\"color\": \"#2a3f5f\"}}, \"ternary\": {\"aaxis\": {\"gridcolor\": \"white\", \"linecolor\": \"white\", \"ticks\": \"\"}, \"baxis\": {\"gridcolor\": \"white\", \"linecolor\": \"white\", \"ticks\": \"\"}, \"bgcolor\": \"#E5ECF6\", \"caxis\": {\"gridcolor\": \"white\", \"linecolor\": \"white\", \"ticks\": \"\"}}, \"title\": {\"x\": 0.05}, \"xaxis\": {\"automargin\": true, \"gridcolor\": \"white\", \"linecolor\": \"white\", \"ticks\": \"\", \"title\": {\"standoff\": 15}, \"zerolinecolor\": \"white\", \"zerolinewidth\": 2}, \"yaxis\": {\"automargin\": true, \"gridcolor\": \"white\", \"linecolor\": \"white\", \"ticks\": \"\", \"title\": {\"standoff\": 15}, \"zerolinecolor\": \"white\", \"zerolinewidth\": 2}}}, \"width\": 800},                        {\"responsive\": true}                    ).then(function(){\n",
       "                            \n",
       "var gd = document.getElementById('d218eb24-92f9-4658-9bba-b0437c884e2a');\n",
       "var x = new MutationObserver(function (mutations, observer) {{\n",
       "        var display = window.getComputedStyle(gd).display;\n",
       "        if (!display || display === 'none') {{\n",
       "            console.log([gd, 'removed!']);\n",
       "            Plotly.purge(gd);\n",
       "            observer.disconnect();\n",
       "        }}\n",
       "}});\n",
       "\n",
       "// Listen for the removal of the full notebook cells\n",
       "var notebookContainer = gd.closest('#notebook-container');\n",
       "if (notebookContainer) {{\n",
       "    x.observe(notebookContainer, {childList: true});\n",
       "}}\n",
       "\n",
       "// Listen for the clearing of the current output cell\n",
       "var outputEl = gd.closest('.output');\n",
       "if (outputEl) {{\n",
       "    x.observe(outputEl, {childList: true});\n",
       "}}\n",
       "\n",
       "                        })                };                });            </script>        </div>"
      ]
     },
     "metadata": {},
     "output_type": "display_data"
    }
   ],
   "source": [
    "fig = px.scatter_3d(\n",
    "    df_shopping,\n",
    "x=\"Annual Income\",\n",
    "    y=\"Spending Score (1-100)\",\n",
    "    z=\"Age\",\n",
    "color=\"class\",\n",
    "    symbol=\"class\",\n",
    "    width=800,\n",
    ")\n",
    "fig.update_layout(legend=dict(x=0, y=1))\n",
    "fig.show()\n"
   ]
  },
  {
   "cell_type": "code",
   "execution_count": 30,
   "metadata": {},
   "outputs": [
    {
     "data": {
      "text/html": [
       "<div>\n",
       "<style scoped>\n",
       "    .dataframe tbody tr th:only-of-type {\n",
       "        vertical-align: middle;\n",
       "    }\n",
       "\n",
       "    .dataframe tbody tr th {\n",
       "        vertical-align: top;\n",
       "    }\n",
       "\n",
       "    .dataframe thead th {\n",
       "        text-align: right;\n",
       "    }\n",
       "</style>\n",
       "<table border=\"1\" class=\"dataframe\">\n",
       "  <thead>\n",
       "    <tr style=\"text-align: right;\">\n",
       "      <th></th>\n",
       "      <th>sepal_length</th>\n",
       "      <th>sepal_width</th>\n",
       "      <th>petal_length</th>\n",
       "      <th>petal_width</th>\n",
       "    </tr>\n",
       "  </thead>\n",
       "  <tbody>\n",
       "    <tr>\n",
       "      <th>0</th>\n",
       "      <td>5.1</td>\n",
       "      <td>3.5</td>\n",
       "      <td>1.4</td>\n",
       "      <td>0.2</td>\n",
       "    </tr>\n",
       "    <tr>\n",
       "      <th>1</th>\n",
       "      <td>4.9</td>\n",
       "      <td>3.0</td>\n",
       "      <td>1.4</td>\n",
       "      <td>0.2</td>\n",
       "    </tr>\n",
       "    <tr>\n",
       "      <th>2</th>\n",
       "      <td>4.7</td>\n",
       "      <td>3.2</td>\n",
       "      <td>1.3</td>\n",
       "      <td>0.2</td>\n",
       "    </tr>\n",
       "    <tr>\n",
       "      <th>3</th>\n",
       "      <td>4.6</td>\n",
       "      <td>3.1</td>\n",
       "      <td>1.5</td>\n",
       "      <td>0.2</td>\n",
       "    </tr>\n",
       "    <tr>\n",
       "      <th>4</th>\n",
       "      <td>5.0</td>\n",
       "      <td>3.6</td>\n",
       "      <td>1.4</td>\n",
       "      <td>0.2</td>\n",
       "    </tr>\n",
       "    <tr>\n",
       "      <th>5</th>\n",
       "      <td>5.4</td>\n",
       "      <td>3.9</td>\n",
       "      <td>1.7</td>\n",
       "      <td>0.4</td>\n",
       "    </tr>\n",
       "    <tr>\n",
       "      <th>6</th>\n",
       "      <td>4.6</td>\n",
       "      <td>3.4</td>\n",
       "      <td>1.4</td>\n",
       "      <td>0.3</td>\n",
       "    </tr>\n",
       "    <tr>\n",
       "      <th>7</th>\n",
       "      <td>5.0</td>\n",
       "      <td>3.4</td>\n",
       "      <td>1.5</td>\n",
       "      <td>0.2</td>\n",
       "    </tr>\n",
       "    <tr>\n",
       "      <th>8</th>\n",
       "      <td>4.4</td>\n",
       "      <td>2.9</td>\n",
       "      <td>1.4</td>\n",
       "      <td>0.2</td>\n",
       "    </tr>\n",
       "    <tr>\n",
       "      <th>9</th>\n",
       "      <td>4.9</td>\n",
       "      <td>3.1</td>\n",
       "      <td>1.5</td>\n",
       "      <td>0.1</td>\n",
       "    </tr>\n",
       "  </tbody>\n",
       "</table>\n",
       "</div>"
      ],
      "text/plain": [
       "   sepal_length  sepal_width  petal_length  petal_width\n",
       "0           5.1          3.5           1.4          0.2\n",
       "1           4.9          3.0           1.4          0.2\n",
       "2           4.7          3.2           1.3          0.2\n",
       "3           4.6          3.1           1.5          0.2\n",
       "4           5.0          3.6           1.4          0.2\n",
       "5           5.4          3.9           1.7          0.4\n",
       "6           4.6          3.4           1.4          0.3\n",
       "7           5.0          3.4           1.5          0.2\n",
       "8           4.4          2.9           1.4          0.2\n",
       "9           4.9          3.1           1.5          0.1"
      ]
     },
     "execution_count": 30,
     "metadata": {},
     "output_type": "execute_result"
    }
   ],
   "source": [
    "# Loading data\n",
    "df = \"../Cryptocurrencies/new_iris_data.csv\"\n",
    "df_iris = pd.read_csv(df)\n",
    "\n",
    "df_iris.head(10)"
   ]
  },
  {
   "cell_type": "code",
   "execution_count": 31,
   "metadata": {},
   "outputs": [],
   "source": [
    "inertia = []\n",
    "k = list(range(1,11))"
   ]
  },
  {
   "cell_type": "code",
   "execution_count": 32,
   "metadata": {},
   "outputs": [],
   "source": [
    "# Looking for the best K\n",
    "for i in k:\n",
    "    km = KMeans(n_clusters=i, random_state=0)\n",
    "    km.fit(df_iris)\n",
    "    inertia.append(km.inertia_)"
   ]
  },
  {
   "cell_type": "code",
   "execution_count": 33,
   "metadata": {},
   "outputs": [
    {
     "data": {},
     "metadata": {},
     "output_type": "display_data"
    },
    {
     "data": {
      "application/vnd.holoviews_exec.v0+json": "",
      "text/html": [
       "<div id='1649'>\n",
       "\n",
       "\n",
       "\n",
       "\n",
       "\n",
       "  <div class=\"bk-root\" id=\"ea1ce300-18c5-49c6-9cac-29a07f5801d4\" data-root-id=\"1649\"></div>\n",
       "</div>\n",
       "<script type=\"application/javascript\">(function(root) {\n",
       "  function embed_document(root) {\n",
       "    var docs_json = {\"442a13bd-3fc4-490e-84f4-ce1adf816bda\":{\"roots\":{\"references\":[{\"attributes\":{\"margin\":[5,5,5,5],\"name\":\"HSpacer02825\",\"sizing_mode\":\"stretch_width\"},\"id\":\"1650\",\"type\":\"Spacer\"},{\"attributes\":{\"axis_label\":\"k\",\"bounds\":\"auto\",\"formatter\":{\"id\":\"1693\"},\"major_label_orientation\":\"horizontal\",\"ticker\":{\"id\":\"1692\"}},\"id\":\"1663\",\"type\":\"LinearAxis\"},{\"attributes\":{\"data_source\":{\"id\":\"1684\"},\"glyph\":{\"id\":\"1687\"},\"hover_glyph\":null,\"muted_glyph\":{\"id\":\"1689\"},\"nonselection_glyph\":{\"id\":\"1688\"},\"selection_glyph\":null,\"view\":{\"id\":\"1691\"}},\"id\":\"1690\",\"type\":\"GlyphRenderer\"},{\"attributes\":{\"end\":746.3020197751952,\"reset_end\":746.3020197751952,\"reset_start\":-39.42941752715117,\"start\":-39.42941752715117,\"tags\":[[[\"inertia\",\"inertia\",null]]]},\"id\":\"1652\",\"type\":\"Range1d\"},{\"attributes\":{\"source\":{\"id\":\"1684\"}},\"id\":\"1691\",\"type\":\"CDSView\"},{\"attributes\":{\"below\":[{\"id\":\"1663\"}],\"center\":[{\"id\":\"1666\"},{\"id\":\"1670\"}],\"left\":[{\"id\":\"1667\"}],\"margin\":[5,5,5,5],\"min_border_bottom\":10,\"min_border_left\":10,\"min_border_right\":10,\"min_border_top\":10,\"plot_height\":300,\"plot_width\":700,\"renderers\":[{\"id\":\"1690\"}],\"sizing_mode\":\"fixed\",\"title\":{\"id\":\"1655\"},\"toolbar\":{\"id\":\"1677\"},\"x_range\":{\"id\":\"1651\"},\"x_scale\":{\"id\":\"1659\"},\"y_range\":{\"id\":\"1652\"},\"y_scale\":{\"id\":\"1661\"}},\"id\":\"1654\",\"subtype\":\"Figure\",\"type\":\"Plot\"},{\"attributes\":{},\"id\":\"1671\",\"type\":\"SaveTool\"},{\"attributes\":{},\"id\":\"1672\",\"type\":\"PanTool\"},{\"attributes\":{\"end\":10.0,\"reset_end\":10.0,\"reset_start\":1.0,\"start\":1.0,\"tags\":[[[\"k\",\"k\",null]]]},\"id\":\"1651\",\"type\":\"Range1d\"},{\"attributes\":{},\"id\":\"1673\",\"type\":\"WheelZoomTool\"},{\"attributes\":{\"active_drag\":\"auto\",\"active_inspect\":\"auto\",\"active_multi\":null,\"active_scroll\":\"auto\",\"active_tap\":\"auto\",\"tools\":[{\"id\":\"1653\"},{\"id\":\"1671\"},{\"id\":\"1672\"},{\"id\":\"1673\"},{\"id\":\"1674\"},{\"id\":\"1675\"}]},\"id\":\"1677\",\"type\":\"Toolbar\"},{\"attributes\":{},\"id\":\"1693\",\"type\":\"BasicTickFormatter\"},{\"attributes\":{\"line_color\":\"#30a2da\",\"line_width\":2,\"x\":{\"field\":\"k\"},\"y\":{\"field\":\"inertia\"}},\"id\":\"1687\",\"type\":\"Line\"},{\"attributes\":{\"callback\":null,\"renderers\":[{\"id\":\"1690\"}],\"tags\":[\"hv_created\"],\"tooltips\":[[\"k\",\"@{k}\"],[\"inertia\",\"@{inertia}\"]]},\"id\":\"1653\",\"type\":\"HoverTool\"},{\"attributes\":{\"overlay\":{\"id\":\"1676\"}},\"id\":\"1674\",\"type\":\"BoxZoomTool\"},{\"attributes\":{},\"id\":\"1659\",\"type\":\"LinearScale\"},{\"attributes\":{},\"id\":\"1705\",\"type\":\"UnionRenderers\"},{\"attributes\":{\"axis\":{\"id\":\"1667\"},\"dimension\":1,\"grid_line_color\":null,\"ticker\":null},\"id\":\"1670\",\"type\":\"Grid\"},{\"attributes\":{\"ticks\":[1,2,3,4,5,6,7,8,9,10]},\"id\":\"1692\",\"type\":\"FixedTicker\"},{\"attributes\":{\"text\":\"Elbow Curve\",\"text_color\":{\"value\":\"black\"},\"text_font_size\":{\"value\":\"12pt\"}},\"id\":\"1655\",\"type\":\"Title\"},{\"attributes\":{},\"id\":\"1675\",\"type\":\"ResetTool\"},{\"attributes\":{\"children\":[{\"id\":\"1650\"},{\"id\":\"1654\"},{\"id\":\"1713\"}],\"margin\":[0,0,0,0],\"name\":\"Row02821\",\"tags\":[\"embedded\"]},\"id\":\"1649\",\"type\":\"Row\"},{\"attributes\":{},\"id\":\"1661\",\"type\":\"LinearScale\"},{\"attributes\":{},\"id\":\"1685\",\"type\":\"Selection\"},{\"attributes\":{\"data\":{\"inertia\":{\"__ndarray__\":\"kfYGX5hGhUDXv4ZxzAtjQDkB9b42vFNA2NDJEbCoTEDAGD5/40dHQPIPFswpd0NAMF9AdmgYQUCuoycTWhA+QPjjk6Wk1ztAtfGG+1YMOkA=\",\"dtype\":\"float64\",\"order\":\"little\",\"shape\":[10]},\"k\":[1,2,3,4,5,6,7,8,9,10]},\"selected\":{\"id\":\"1685\"},\"selection_policy\":{\"id\":\"1705\"}},\"id\":\"1684\",\"type\":\"ColumnDataSource\"},{\"attributes\":{\"line_alpha\":0.1,\"line_color\":\"#30a2da\",\"line_width\":2,\"x\":{\"field\":\"k\"},\"y\":{\"field\":\"inertia\"}},\"id\":\"1688\",\"type\":\"Line\"},{\"attributes\":{\"margin\":[5,5,5,5],\"name\":\"HSpacer02826\",\"sizing_mode\":\"stretch_width\"},\"id\":\"1713\",\"type\":\"Spacer\"},{\"attributes\":{},\"id\":\"1697\",\"type\":\"BasicTickFormatter\"},{\"attributes\":{\"axis_label\":\"inertia\",\"bounds\":\"auto\",\"formatter\":{\"id\":\"1697\"},\"major_label_orientation\":\"horizontal\",\"ticker\":{\"id\":\"1668\"}},\"id\":\"1667\",\"type\":\"LinearAxis\"},{\"attributes\":{\"axis\":{\"id\":\"1663\"},\"grid_line_color\":null,\"ticker\":null},\"id\":\"1666\",\"type\":\"Grid\"},{\"attributes\":{},\"id\":\"1668\",\"type\":\"BasicTicker\"},{\"attributes\":{\"bottom_units\":\"screen\",\"fill_alpha\":0.5,\"fill_color\":\"lightgrey\",\"left_units\":\"screen\",\"level\":\"overlay\",\"line_alpha\":1.0,\"line_color\":\"black\",\"line_dash\":[4,4],\"line_width\":2,\"right_units\":\"screen\",\"top_units\":\"screen\"},\"id\":\"1676\",\"type\":\"BoxAnnotation\"},{\"attributes\":{\"line_alpha\":0.2,\"line_color\":\"#30a2da\",\"line_width\":2,\"x\":{\"field\":\"k\"},\"y\":{\"field\":\"inertia\"}},\"id\":\"1689\",\"type\":\"Line\"}],\"root_ids\":[\"1649\"]},\"title\":\"Bokeh Application\",\"version\":\"2.2.3\"}};\n",
       "    var render_items = [{\"docid\":\"442a13bd-3fc4-490e-84f4-ce1adf816bda\",\"root_ids\":[\"1649\"],\"roots\":{\"1649\":\"ea1ce300-18c5-49c6-9cac-29a07f5801d4\"}}];\n",
       "    root.Bokeh.embed.embed_items_notebook(docs_json, render_items);\n",
       "  }\n",
       "  if (root.Bokeh !== undefined && root.Bokeh.Panel !== undefined) {\n",
       "    embed_document(root);\n",
       "  } else {\n",
       "    var attempts = 0;\n",
       "    var timer = setInterval(function(root) {\n",
       "      if (root.Bokeh !== undefined && root.Bokeh.Panel !== undefined) {\n",
       "        clearInterval(timer);\n",
       "        embed_document(root);\n",
       "      } else if (document.readyState == \"complete\") {\n",
       "        attempts++;\n",
       "        if (attempts > 100) {\n",
       "          clearInterval(timer);\n",
       "          console.log(\"Bokeh: ERROR: Unable to run BokehJS code because BokehJS library is missing\");\n",
       "        }\n",
       "      }\n",
       "    }, 10, root)\n",
       "  }\n",
       "})(window);</script>"
      ],
      "text/plain": [
       ":Curve   [k]   (inertia)"
      ]
     },
     "execution_count": 33,
     "metadata": {
      "application/vnd.holoviews_exec.v0+json": {
       "id": "1649"
      }
     },
     "output_type": "execute_result"
    }
   ],
   "source": [
    "# create the Elbow Curve using hvPlot\n",
    "elbow_data = {\"k\": k, \"inertia\": inertia}\n",
    "df_elbow = pd.DataFrame(elbow_data)\n",
    "df_elbow.hvplot.line(x=\"k\", y=\"inertia\", xticks=k, title=\"Elbow Curve\")"
   ]
  },
  {
   "cell_type": "code",
   "execution_count": 34,
   "metadata": {},
   "outputs": [
    {
     "data": {
      "text/html": [
       "<div>\n",
       "<style scoped>\n",
       "    .dataframe tbody tr th:only-of-type {\n",
       "        vertical-align: middle;\n",
       "    }\n",
       "\n",
       "    .dataframe tbody tr th {\n",
       "        vertical-align: top;\n",
       "    }\n",
       "\n",
       "    .dataframe thead th {\n",
       "        text-align: right;\n",
       "    }\n",
       "</style>\n",
       "<table border=\"1\" class=\"dataframe\">\n",
       "  <thead>\n",
       "    <tr style=\"text-align: right;\">\n",
       "      <th></th>\n",
       "      <th>Card Member</th>\n",
       "      <th>Age</th>\n",
       "      <th>Annual Income</th>\n",
       "      <th>Spending Score (1-100)</th>\n",
       "    </tr>\n",
       "  </thead>\n",
       "  <tbody>\n",
       "    <tr>\n",
       "      <th>0</th>\n",
       "      <td>1</td>\n",
       "      <td>19.0</td>\n",
       "      <td>150.0</td>\n",
       "      <td>39.0</td>\n",
       "    </tr>\n",
       "    <tr>\n",
       "      <th>1</th>\n",
       "      <td>1</td>\n",
       "      <td>21.0</td>\n",
       "      <td>150.0</td>\n",
       "      <td>81.0</td>\n",
       "    </tr>\n",
       "    <tr>\n",
       "      <th>2</th>\n",
       "      <td>0</td>\n",
       "      <td>20.0</td>\n",
       "      <td>160.0</td>\n",
       "      <td>6.0</td>\n",
       "    </tr>\n",
       "    <tr>\n",
       "      <th>3</th>\n",
       "      <td>0</td>\n",
       "      <td>23.0</td>\n",
       "      <td>160.0</td>\n",
       "      <td>77.0</td>\n",
       "    </tr>\n",
       "    <tr>\n",
       "      <th>4</th>\n",
       "      <td>0</td>\n",
       "      <td>31.0</td>\n",
       "      <td>170.0</td>\n",
       "      <td>40.0</td>\n",
       "    </tr>\n",
       "    <tr>\n",
       "      <th>5</th>\n",
       "      <td>0</td>\n",
       "      <td>22.0</td>\n",
       "      <td>170.0</td>\n",
       "      <td>76.0</td>\n",
       "    </tr>\n",
       "    <tr>\n",
       "      <th>6</th>\n",
       "      <td>0</td>\n",
       "      <td>35.0</td>\n",
       "      <td>180.0</td>\n",
       "      <td>6.0</td>\n",
       "    </tr>\n",
       "    <tr>\n",
       "      <th>7</th>\n",
       "      <td>0</td>\n",
       "      <td>23.0</td>\n",
       "      <td>180.0</td>\n",
       "      <td>94.0</td>\n",
       "    </tr>\n",
       "    <tr>\n",
       "      <th>8</th>\n",
       "      <td>1</td>\n",
       "      <td>64.0</td>\n",
       "      <td>190.0</td>\n",
       "      <td>3.0</td>\n",
       "    </tr>\n",
       "    <tr>\n",
       "      <th>9</th>\n",
       "      <td>0</td>\n",
       "      <td>30.0</td>\n",
       "      <td>190.0</td>\n",
       "      <td>72.0</td>\n",
       "    </tr>\n",
       "  </tbody>\n",
       "</table>\n",
       "</div>"
      ],
      "text/plain": [
       "   Card Member   Age  Annual Income  Spending Score (1-100)\n",
       "0            1  19.0          150.0                    39.0\n",
       "1            1  21.0          150.0                    81.0\n",
       "2            0  20.0          160.0                     6.0\n",
       "3            0  23.0          160.0                    77.0\n",
       "4            0  31.0          170.0                    40.0\n",
       "5            0  22.0          170.0                    76.0\n",
       "6            0  35.0          180.0                     6.0\n",
       "7            0  23.0          180.0                    94.0\n",
       "8            1  64.0          190.0                     3.0\n",
       "9            0  30.0          190.0                    72.0"
      ]
     },
     "execution_count": 34,
     "metadata": {},
     "output_type": "execute_result"
    }
   ],
   "source": [
    "df = \"../Cryptocurrencies/shopping_data_cleaned.csv\"\n",
    "df_shopping =pd.read_csv(df)\n",
    "df_shopping.head(10)"
   ]
  },
  {
   "cell_type": "code",
   "execution_count": 35,
   "metadata": {},
   "outputs": [],
   "source": [
    "inertia = []\n",
    "k = list(range(1, 11))\n",
    "# Calculate the inertia for the range of K values\n",
    "for i in k:\n",
    "   km = KMeans(n_clusters=i, random_state=0)\n",
    "   km.fit(df_shopping)\n",
    "   inertia.append(km.inertia_)"
   ]
  },
  {
   "cell_type": "code",
   "execution_count": 36,
   "metadata": {},
   "outputs": [
    {
     "data": {},
     "metadata": {},
     "output_type": "display_data"
    },
    {
     "data": {
      "application/vnd.holoviews_exec.v0+json": "",
      "text/html": [
       "<div id='1750'>\n",
       "\n",
       "\n",
       "\n",
       "\n",
       "\n",
       "  <div class=\"bk-root\" id=\"7f5066bf-028e-41b8-bc5a-3bc2735e7b82\" data-root-id=\"1750\"></div>\n",
       "</div>\n",
       "<script type=\"application/javascript\">(function(root) {\n",
       "  function embed_document(root) {\n",
       "    var docs_json = {\"504efb8f-268f-4ce6-b674-dad103e22e32\":{\"roots\":{\"references\":[{\"attributes\":{\"children\":[{\"id\":\"1751\"},{\"id\":\"1755\"},{\"id\":\"1814\"}],\"margin\":[0,0,0,0],\"name\":\"Row02999\",\"tags\":[\"embedded\"]},\"id\":\"1750\",\"type\":\"Row\"},{\"attributes\":{\"source\":{\"id\":\"1785\"}},\"id\":\"1792\",\"type\":\"CDSView\"},{\"attributes\":{\"below\":[{\"id\":\"1764\"}],\"center\":[{\"id\":\"1767\"},{\"id\":\"1771\"}],\"left\":[{\"id\":\"1768\"}],\"margin\":[5,5,5,5],\"min_border_bottom\":10,\"min_border_left\":10,\"min_border_right\":10,\"min_border_top\":10,\"plot_height\":300,\"plot_width\":700,\"renderers\":[{\"id\":\"1791\"}],\"sizing_mode\":\"fixed\",\"title\":{\"id\":\"1756\"},\"toolbar\":{\"id\":\"1778\"},\"x_range\":{\"id\":\"1752\"},\"x_scale\":{\"id\":\"1760\"},\"y_range\":{\"id\":\"1753\"},\"y_scale\":{\"id\":\"1762\"}},\"id\":\"1755\",\"subtype\":\"Figure\",\"type\":\"Plot\"},{\"attributes\":{},\"id\":\"1772\",\"type\":\"SaveTool\"},{\"attributes\":{\"margin\":[5,5,5,5],\"name\":\"HSpacer03004\",\"sizing_mode\":\"stretch_width\"},\"id\":\"1814\",\"type\":\"Spacer\"},{\"attributes\":{\"line_color\":\"#30a2da\",\"line_width\":2,\"x\":{\"field\":\"k\"},\"y\":{\"field\":\"inertia\"}},\"id\":\"1788\",\"type\":\"Line\"},{\"attributes\":{},\"id\":\"1773\",\"type\":\"PanTool\"},{\"attributes\":{},\"id\":\"1806\",\"type\":\"UnionRenderers\"},{\"attributes\":{\"axis\":{\"id\":\"1768\"},\"dimension\":1,\"grid_line_color\":null,\"ticker\":null},\"id\":\"1771\",\"type\":\"Grid\"},{\"attributes\":{},\"id\":\"1774\",\"type\":\"WheelZoomTool\"},{\"attributes\":{},\"id\":\"1794\",\"type\":\"BasicTickFormatter\"},{\"attributes\":{\"overlay\":{\"id\":\"1777\"}},\"id\":\"1775\",\"type\":\"BoxZoomTool\"},{\"attributes\":{},\"id\":\"1760\",\"type\":\"LinearScale\"},{\"attributes\":{\"data\":{\"inertia\":{\"__ndarray__\":\"j8L1GMaCakE/6ZO+YDdTQZO5yYAyQENBO14pSc/VNkGovh1vJw4vQXie55nQlCRBDcMwrFIpIUEEAADAXYQbQWin34EPgxdBZhYJ/V7hFEE=\",\"dtype\":\"float64\",\"order\":\"little\",\"shape\":[10]},\"k\":[1,2,3,4,5,6,7,8,9,10]},\"selected\":{\"id\":\"1786\"},\"selection_policy\":{\"id\":\"1806\"}},\"id\":\"1785\",\"type\":\"ColumnDataSource\"},{\"attributes\":{\"axis_label\":\"k\",\"bounds\":\"auto\",\"formatter\":{\"id\":\"1794\"},\"major_label_orientation\":\"horizontal\",\"ticker\":{\"id\":\"1793\"}},\"id\":\"1764\",\"type\":\"LinearAxis\"},{\"attributes\":{\"ticks\":[1,2,3,4,5,6,7,8,9,10]},\"id\":\"1793\",\"type\":\"FixedTicker\"},{\"attributes\":{},\"id\":\"1776\",\"type\":\"ResetTool\"},{\"attributes\":{\"line_alpha\":0.1,\"line_color\":\"#30a2da\",\"line_width\":2,\"x\":{\"field\":\"k\"},\"y\":{\"field\":\"inertia\"}},\"id\":\"1789\",\"type\":\"Line\"},{\"attributes\":{},\"id\":\"1762\",\"type\":\"LinearScale\"},{\"attributes\":{\"text\":\"Elbow Curve\",\"text_color\":{\"value\":\"black\"},\"text_font_size\":{\"value\":\"12pt\"}},\"id\":\"1756\",\"type\":\"Title\"},{\"attributes\":{\"callback\":null,\"renderers\":[{\"id\":\"1791\"}],\"tags\":[\"hv_created\"],\"tooltips\":[[\"k\",\"@{k}\"],[\"inertia\",\"@{inertia}\"]]},\"id\":\"1754\",\"type\":\"HoverTool\"},{\"attributes\":{},\"id\":\"1798\",\"type\":\"BasicTickFormatter\"},{\"attributes\":{\"axis\":{\"id\":\"1764\"},\"grid_line_color\":null,\"ticker\":null},\"id\":\"1767\",\"type\":\"Grid\"},{\"attributes\":{},\"id\":\"1769\",\"type\":\"BasicTicker\"},{\"attributes\":{\"axis_label\":\"inertia\",\"bounds\":\"auto\",\"formatter\":{\"id\":\"1798\"},\"major_label_orientation\":\"horizontal\",\"ticker\":{\"id\":\"1769\"}},\"id\":\"1768\",\"type\":\"LinearAxis\"},{\"attributes\":{},\"id\":\"1786\",\"type\":\"Selection\"},{\"attributes\":{\"end\":10.0,\"reset_end\":10.0,\"reset_start\":1.0,\"start\":1.0,\"tags\":[[[\"k\",\"k\",null]]]},\"id\":\"1752\",\"type\":\"Range1d\"},{\"attributes\":{\"bottom_units\":\"screen\",\"fill_alpha\":0.5,\"fill_color\":\"lightgrey\",\"left_units\":\"screen\",\"level\":\"overlay\",\"line_alpha\":1.0,\"line_color\":\"black\",\"line_dash\":[4,4],\"line_width\":2,\"right_units\":\"screen\",\"top_units\":\"screen\"},\"id\":\"1777\",\"type\":\"BoxAnnotation\"},{\"attributes\":{\"margin\":[5,5,5,5],\"name\":\"HSpacer03003\",\"sizing_mode\":\"stretch_width\"},\"id\":\"1751\",\"type\":\"Spacer\"},{\"attributes\":{\"end\":15255033.683289502,\"reset_end\":15255033.683289502,\"reset_start\":-1013617.1561845237,\"start\":-1013617.1561845237,\"tags\":[[[\"inertia\",\"inertia\",null]]]},\"id\":\"1753\",\"type\":\"Range1d\"},{\"attributes\":{\"line_alpha\":0.2,\"line_color\":\"#30a2da\",\"line_width\":2,\"x\":{\"field\":\"k\"},\"y\":{\"field\":\"inertia\"}},\"id\":\"1790\",\"type\":\"Line\"},{\"attributes\":{\"data_source\":{\"id\":\"1785\"},\"glyph\":{\"id\":\"1788\"},\"hover_glyph\":null,\"muted_glyph\":{\"id\":\"1790\"},\"nonselection_glyph\":{\"id\":\"1789\"},\"selection_glyph\":null,\"view\":{\"id\":\"1792\"}},\"id\":\"1791\",\"type\":\"GlyphRenderer\"},{\"attributes\":{\"active_drag\":\"auto\",\"active_inspect\":\"auto\",\"active_multi\":null,\"active_scroll\":\"auto\",\"active_tap\":\"auto\",\"tools\":[{\"id\":\"1754\"},{\"id\":\"1772\"},{\"id\":\"1773\"},{\"id\":\"1774\"},{\"id\":\"1775\"},{\"id\":\"1776\"}]},\"id\":\"1778\",\"type\":\"Toolbar\"}],\"root_ids\":[\"1750\"]},\"title\":\"Bokeh Application\",\"version\":\"2.2.3\"}};\n",
       "    var render_items = [{\"docid\":\"504efb8f-268f-4ce6-b674-dad103e22e32\",\"root_ids\":[\"1750\"],\"roots\":{\"1750\":\"7f5066bf-028e-41b8-bc5a-3bc2735e7b82\"}}];\n",
       "    root.Bokeh.embed.embed_items_notebook(docs_json, render_items);\n",
       "  }\n",
       "  if (root.Bokeh !== undefined && root.Bokeh.Panel !== undefined) {\n",
       "    embed_document(root);\n",
       "  } else {\n",
       "    var attempts = 0;\n",
       "    var timer = setInterval(function(root) {\n",
       "      if (root.Bokeh !== undefined && root.Bokeh.Panel !== undefined) {\n",
       "        clearInterval(timer);\n",
       "        embed_document(root);\n",
       "      } else if (document.readyState == \"complete\") {\n",
       "        attempts++;\n",
       "        if (attempts > 100) {\n",
       "          clearInterval(timer);\n",
       "          console.log(\"Bokeh: ERROR: Unable to run BokehJS code because BokehJS library is missing\");\n",
       "        }\n",
       "      }\n",
       "    }, 10, root)\n",
       "  }\n",
       "})(window);</script>"
      ],
      "text/plain": [
       ":Curve   [k]   (inertia)"
      ]
     },
     "execution_count": 36,
     "metadata": {
      "application/vnd.holoviews_exec.v0+json": {
       "id": "1750"
      }
     },
     "output_type": "execute_result"
    }
   ],
   "source": [
    "# Define a DataFrame to plot the Elbow Curve using hvPlot\n",
    "elbow_data = {\"k\": k, \"inertia\": inertia}\n",
    "df_elbow = pd.DataFrame(elbow_data)\n",
    "df_elbow.hvplot.line(x=\"k\", y=\"inertia\", xticks=k, title=\"Elbow Curve\")"
   ]
  },
  {
   "cell_type": "code",
   "execution_count": 37,
   "metadata": {},
   "outputs": [],
   "source": [
    "def get_clusters(k, data):\n",
    "   # Create a copy of the DataFrame\n",
    "   data = data.copy()\n",
    "\n",
    "   # Initialize the K-Means model\n",
    "   model = KMeans(n_clusters=k, random_state=0)\n",
    "\n",
    "   # Fit the model\n",
    "   model.fit(data)\n",
    "\n",
    "   # Predict clusters\n",
    "   predictions = model.predict(data)\n",
    "\n",
    "   # Create return DataFrame with predicted clusters\n",
    "   data[\"class\"] = model.labels_\n",
    "\n",
    "   return data"
   ]
  },
  {
   "cell_type": "code",
   "execution_count": null,
   "metadata": {},
   "outputs": [],
   "source": []
  }
 ],
 "metadata": {
  "kernelspec": {
   "display_name": "mlenv",
   "language": "python",
   "name": "mlenv"
  },
  "language_info": {
   "codemirror_mode": {
    "name": "ipython",
    "version": 3
   },
   "file_extension": ".py",
   "mimetype": "text/x-python",
   "name": "python",
   "nbconvert_exporter": "python",
   "pygments_lexer": "ipython3",
   "version": "3.7.9"
  }
 },
 "nbformat": 4,
 "nbformat_minor": 4
}
